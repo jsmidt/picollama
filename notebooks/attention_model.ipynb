{
 "cells": [
  {
   "cell_type": "code",
   "execution_count": 1,
   "metadata": {},
   "outputs": [],
   "source": [
    "import math\n",
    "import torch\n",
    "import torch.nn as nn\n",
    "import torch.nn.functional as F\n",
    "from torch.utils.data import DataLoader\n",
    "from transformers import AutoTokenizer\n",
    "from datasets import load_dataset\n",
    "import matplotlib.pyplot as plt\n",
    "\n",
    "# Set a seed for reproduceability\n",
    "seed = 42"
   ]
  },
  {
   "cell_type": "markdown",
   "metadata": {},
   "source": [
    "## Linear model: MLPs, Weight Tieing, and batch size\n",
    "\n",
    "In this notebook, we explore what happens if we turn the final lm_head output layer into a couple of MLP layers, keeping the parameter count around 50M. We also add some complexity to the training loop such as batch size and warmup steps.  \n",
    "\n"
   ]
  },
  {
   "cell_type": "code",
   "execution_count": 2,
   "metadata": {},
   "outputs": [],
   "source": [
    "# Set Tokenizer\n",
    "\n",
    "# 512 is a good minimal context length in principle large enough to understand paragraphs\n",
    "context_length = 512\n",
    "\n",
    "# The original Llama 2 tokenizer is available from Huggingface, but we will use the more\n",
    "# up-to-date Cosmo2 toenizer provided by Huggingface for the Llama-like SmolLM models\n",
    "tokenizer = AutoTokenizer.from_pretrained(\"HuggingFaceTB/cosmo2-tokenizer\")\n",
    "tokenizer.model_max_length = context_length\n",
    "# There are times we need to pad.  We will make the padding token the same one that \n",
    "# signals end of sentance.\n",
    "tokenizer.pad_token = tokenizer.eos_token"
   ]
  },
  {
   "cell_type": "code",
   "execution_count": 3,
   "metadata": {},
   "outputs": [
    {
     "data": {
      "application/vnd.jupyter.widget-view+json": {
       "model_id": "033d18990e2a42d8a0c974420fbd82a0",
       "version_major": 2,
       "version_minor": 0
      },
      "text/plain": [
       "Resolving data files:   0%|          | 0/104 [00:00<?, ?it/s]"
      ]
     },
     "metadata": {},
     "output_type": "display_data"
    },
    {
     "data": {
      "application/vnd.jupyter.widget-view+json": {
       "model_id": "bebf3216d6cc41d1a8ca183e8436cc08",
       "version_major": 2,
       "version_minor": 0
      },
      "text/plain": [
       "Resolving data files:   0%|          | 0/104 [00:00<?, ?it/s]"
      ]
     },
     "metadata": {},
     "output_type": "display_data"
    }
   ],
   "source": [
    "# Set dataset\n",
    "\n",
    "# Set batch size\n",
    "batch_size = 8\n",
    "\n",
    "# Load dataset from hugging face in streaming mode.\n",
    "dataset = load_dataset(\"HuggingFaceTB/smollm-corpus\", \"cosmopedia-v2\", split=\"train\", streaming=True)\n",
    "\n",
    "# Create a tokenize fundtion.\n",
    "def tokenize(item):\n",
    "    x = tokenizer(\n",
    "        item['text'],\n",
    "        truncation=True,\n",
    "        padding=True,\n",
    "        max_length=context_length,\n",
    "        return_tensors=\"pt\",\n",
    "    )\n",
    "\n",
    "    return x\n",
    "\n",
    "\n",
    "tokenized_dataset = dataset.map(\n",
    "    tokenize, batched=True, remove_columns=dataset.column_names\n",
    ")\n",
    "train_dl = DataLoader(dataset=tokenized_dataset, batch_size=batch_size)"
   ]
  },
  {
   "cell_type": "markdown",
   "metadata": {},
   "source": [
    "### Building linear model\n",
    "\n",
    "Now let's make a linear model using a couple of back to back MLPs with Relu activation functions to explore if this is superior to just the embedding layer with linear output, assuming parameters are fixed to roughly 50M parameters.  "
   ]
  },
  {
   "cell_type": "code",
   "execution_count": 4,
   "metadata": {},
   "outputs": [],
   "source": [
    "class MultiHeadedSelfAttention(nn.Module):\n",
    "    def __init__(self, n_heads: int, n_embed: int):\n",
    "        super().__init__()\n",
    "\n",
    "        assert n_embed % n_heads == 0, \"Number of heads muct divide embedding dimension\"\n",
    "        self.n_heads = n_heads\n",
    "        self.h_dim = n_embed // n_heads\n",
    "\n",
    "        self.q = nn.Linear(n_embed, n_embed, bias=False)\n",
    "        self.k = nn.Linear(n_embed, n_embed, bias=False)\n",
    "        self.v = nn.Linear(n_embed, n_embed, bias=False)\n",
    "\n",
    "        self.proj_out = nn.Linear(n_embed, n_embed, bias=False)\n",
    "\n",
    "    def forward(self, x: torch.Tensor) -> torch.Tensor:\n",
    "        B, T, C = x.shape\n",
    "\n",
    "        # (B, T, C) -> (B, T, n_heads, h_dim) -> (B, n_heads, T, h_dim)\n",
    "        q = self.q(x).view(B, T, self.n_heads, self.h_dim).transpose(1, 2)\n",
    "        k = self.k(x).view(B, T, self.n_heads, self.h_dim).transpose(1, 2)\n",
    "        v = self.v(x).view(B, T, self.n_heads, self.h_dim).transpose(1, 2)\n",
    "\n",
    "        x = F.scaled_dot_product_attention(q, k, v, is_causal=True)\n",
    "\n",
    "        # (B, n_heads, T, h_dim) -> (B, T, n_heads, h_dim) -> (B, T, C)\n",
    "        x = x.transpose(1, 2).contiguous().view(B, T, C)\n",
    "        return self.proj_out(x)\n",
    "\n",
    "\n",
    "# We will inherit from Pytorch's Module class\n",
    "class AttentionModel(nn.Module):\n",
    "    def __init__(\n",
    "        self, vocab_size: int, context_length: int, n_embed: int, n_heads: int\n",
    "    ):\n",
    "        super().__init__()\n",
    "\n",
    "        # Map tokens to embedding space with dimension n_embed\n",
    "        self.embedding = nn.Embedding(vocab_size, embedding_dim=n_embed)\n",
    "        self.pos_embedding = nn.Embedding(context_length, n_embed)\n",
    "\n",
    "        self.attn1 = MultiHeadedSelfAttention(n_heads, n_embed)\n",
    "\n",
    "        self.fft1 = nn.Sequential(nn.Linear(n_embed, 4*n_embed, bias=False),\n",
    "                                 nn.ReLU(),\n",
    "                                 nn.Linear(4*n_embed, n_embed, bias=False))\n",
    "        \n",
    "        self.attn2 = MultiHeadedSelfAttention(n_heads, n_embed)\n",
    "\n",
    "        self.fft2 = nn.Sequential(nn.Linear(n_embed, 4*n_embed, bias=False),\n",
    "                                 nn.ReLU(),\n",
    "                                 nn.Linear(4*n_embed, n_embed, bias=False))\n",
    "\n",
    "        self.ln1 = nn.LayerNorm(n_embed)\n",
    "        self.ln2 = nn.LayerNorm(n_embed)\n",
    "        self.ln3 = nn.LayerNorm(n_embed)\n",
    "        self.ln4 = nn.LayerNorm(n_embed)\n",
    "        \n",
    "\n",
    "        # Now map back to make prediction for next tokens, called logits.  The layer that\n",
    "        # does this is traditionally a linear layer called the lannguage model head.\n",
    "        self.lm_head = nn.Linear(n_embed, vocab_size, bias=False)\n",
    "        self.apply(self._init_weights)\n",
    "        self.embedding.weight = self.lm_head.weight\n",
    "\n",
    "\n",
    "    def _init_weights(self, module):\n",
    "        if isinstance(module, nn.Linear):\n",
    "            torch.nn.init.normal_(module.weight, mean=0.0, std=0.02)\n",
    "            if module.bias is not None:\n",
    "                torch.nn.init.zeros_(module.bias)\n",
    "        elif isinstance(module, nn.Embedding):\n",
    "            torch.nn.init.normal_(module.weight, mean=0.0, std=0.02)\n",
    "\n",
    "    # Pytorch Modules have a forward method that is what is executed when the model is called\n",
    "    # The input is the (batch, tokens) tensor and a (batch, logits) tensor is returned\n",
    "    def forward(self, x: torch.Tensor) -> torch.Tensor:\n",
    "        _, T = x.shape\n",
    "        pos = torch.arange(0, T, dtype=torch.long, device=x.device)\n",
    "        tok_emb = self.embedding(x)\n",
    "        pos_emb = self.pos_embedding(pos)\n",
    "        x = tok_emb + pos_emb\n",
    "        x = x + self.attn1(self.ln1(x))\n",
    "        x = x + self.fft1(self.ln2(x))\n",
    "        x = x + self.attn2(self.ln3(x))\n",
    "        x = x + self.fft2(self.ln4(x))\n",
    "        logits = self.lm_head(x)\n",
    "        return logits"
   ]
  },
  {
   "cell_type": "code",
   "execution_count": 5,
   "metadata": {},
   "outputs": [
    {
     "ename": "TypeError",
     "evalue": "Sequential.__init__() got an unexpected keyword argument 'bias'",
     "output_type": "error",
     "traceback": [
      "\u001b[0;31m---------------------------------------------------------------------------\u001b[0m",
      "\u001b[0;31mTypeError\u001b[0m                                 Traceback (most recent call last)",
      "Cell \u001b[0;32mIn[5], line 2\u001b[0m\n\u001b[1;32m      1\u001b[0m \u001b[38;5;66;03m# Let's create the model\u001b[39;00m\n\u001b[0;32m----> 2\u001b[0m model \u001b[38;5;241m=\u001b[39m \u001b[43mAttentionModel\u001b[49m\u001b[43m(\u001b[49m\n\u001b[1;32m      3\u001b[0m \u001b[43m    \u001b[49m\u001b[43mvocab_size\u001b[49m\u001b[38;5;241;43m=\u001b[39;49m\u001b[43mtokenizer\u001b[49m\u001b[38;5;241;43m.\u001b[39;49m\u001b[43mvocab_size\u001b[49m\u001b[43m,\u001b[49m\n\u001b[1;32m      4\u001b[0m \u001b[43m    \u001b[49m\u001b[43mcontext_length\u001b[49m\u001b[38;5;241;43m=\u001b[39;49m\u001b[43mcontext_length\u001b[49m\u001b[43m,\u001b[49m\n\u001b[1;32m      5\u001b[0m \u001b[43m    \u001b[49m\u001b[43mn_embed\u001b[49m\u001b[38;5;241;43m=\u001b[39;49m\u001b[38;5;241;43m768\u001b[39;49m\u001b[43m,\u001b[49m\n\u001b[1;32m      6\u001b[0m \u001b[43m    \u001b[49m\u001b[43mn_heads\u001b[49m\u001b[38;5;241;43m=\u001b[39;49m\u001b[38;5;241;43m12\u001b[39;49m\u001b[43m,\u001b[49m\n\u001b[1;32m      7\u001b[0m \u001b[43m)\u001b[49m\n\u001b[1;32m      9\u001b[0m \u001b[38;5;66;03m# Let's see how many parameters we have\u001b[39;00m\n\u001b[1;32m     10\u001b[0m \u001b[38;5;28mprint\u001b[39m(\u001b[38;5;28msum\u001b[39m([p\u001b[38;5;241m.\u001b[39mnumel() \u001b[38;5;28;01mfor\u001b[39;00m p \u001b[38;5;129;01min\u001b[39;00m model\u001b[38;5;241m.\u001b[39mparameters()]) \u001b[38;5;241m/\u001b[39m \u001b[38;5;241m1.0e6\u001b[39m)\n",
      "Cell \u001b[0;32mIn[4], line 43\u001b[0m, in \u001b[0;36mAttentionModel.__init__\u001b[0;34m(self, vocab_size, context_length, n_embed, n_heads)\u001b[0m\n\u001b[1;32m     39\u001b[0m \u001b[38;5;28mself\u001b[39m\u001b[38;5;241m.\u001b[39mpos_embedding \u001b[38;5;241m=\u001b[39m nn\u001b[38;5;241m.\u001b[39mEmbedding(context_length, n_embed)\n\u001b[1;32m     41\u001b[0m \u001b[38;5;28mself\u001b[39m\u001b[38;5;241m.\u001b[39mattn1 \u001b[38;5;241m=\u001b[39m MultiHeadedSelfAttention(n_heads, n_embed)\n\u001b[0;32m---> 43\u001b[0m \u001b[38;5;28mself\u001b[39m\u001b[38;5;241m.\u001b[39mfft1 \u001b[38;5;241m=\u001b[39m \u001b[43mnn\u001b[49m\u001b[38;5;241;43m.\u001b[39;49m\u001b[43mSequential\u001b[49m\u001b[43m(\u001b[49m\u001b[43mnn\u001b[49m\u001b[38;5;241;43m.\u001b[39;49m\u001b[43mLinear\u001b[49m\u001b[43m(\u001b[49m\u001b[43mn_embed\u001b[49m\u001b[43m,\u001b[49m\u001b[43m \u001b[49m\u001b[38;5;241;43m4\u001b[39;49m\u001b[38;5;241;43m*\u001b[39;49m\u001b[43mn_embed\u001b[49m\u001b[43m,\u001b[49m\u001b[43m \u001b[49m\u001b[43mbias\u001b[49m\u001b[38;5;241;43m=\u001b[39;49m\u001b[38;5;28;43;01mFalse\u001b[39;49;00m\u001b[43m)\u001b[49m\u001b[43m,\u001b[49m\n\u001b[1;32m     44\u001b[0m \u001b[43m                         \u001b[49m\u001b[43mnn\u001b[49m\u001b[38;5;241;43m.\u001b[39;49m\u001b[43mReLU\u001b[49m\u001b[43m(\u001b[49m\u001b[43m)\u001b[49m\u001b[43m,\u001b[49m\n\u001b[1;32m     45\u001b[0m \u001b[43m                         \u001b[49m\u001b[43mnn\u001b[49m\u001b[38;5;241;43m.\u001b[39;49m\u001b[43mLinear\u001b[49m\u001b[43m(\u001b[49m\u001b[38;5;241;43m4\u001b[39;49m\u001b[38;5;241;43m*\u001b[39;49m\u001b[43mn_embed\u001b[49m\u001b[43m,\u001b[49m\u001b[43m \u001b[49m\u001b[43mn_embed\u001b[49m\u001b[43m)\u001b[49m\u001b[43m,\u001b[49m\u001b[43m \u001b[49m\u001b[43mbias\u001b[49m\u001b[38;5;241;43m=\u001b[39;49m\u001b[38;5;28;43;01mFalse\u001b[39;49;00m\u001b[43m)\u001b[49m\n\u001b[1;32m     47\u001b[0m \u001b[38;5;28mself\u001b[39m\u001b[38;5;241m.\u001b[39mattn2 \u001b[38;5;241m=\u001b[39m MultiHeadedSelfAttention(n_heads, n_embed)\n\u001b[1;32m     49\u001b[0m \u001b[38;5;28mself\u001b[39m\u001b[38;5;241m.\u001b[39mfft2 \u001b[38;5;241m=\u001b[39m nn\u001b[38;5;241m.\u001b[39mSequential(nn\u001b[38;5;241m.\u001b[39mLinear(n_embed, \u001b[38;5;241m4\u001b[39m\u001b[38;5;241m*\u001b[39mn_embed, bias\u001b[38;5;241m=\u001b[39m\u001b[38;5;28;01mFalse\u001b[39;00m),\n\u001b[1;32m     50\u001b[0m                          nn\u001b[38;5;241m.\u001b[39mReLU(),\n\u001b[1;32m     51\u001b[0m                          nn\u001b[38;5;241m.\u001b[39mLinear(\u001b[38;5;241m4\u001b[39m\u001b[38;5;241m*\u001b[39mn_embed, n_embed, bias\u001b[38;5;241m=\u001b[39m\u001b[38;5;28;01mFalse\u001b[39;00m))\n",
      "\u001b[0;31mTypeError\u001b[0m: Sequential.__init__() got an unexpected keyword argument 'bias'"
     ]
    }
   ],
   "source": [
    "# Let's create the model\n",
    "model = AttentionModel(\n",
    "    vocab_size=tokenizer.vocab_size,\n",
    "    context_length=context_length,\n",
    "    n_embed=768,\n",
    "    n_heads=12,\n",
    ")\n",
    "\n",
    "# Let's see how many parameters we have\n",
    "print(sum([p.numel() for p in model.parameters()]) / 1.0e6)"
   ]
  },
  {
   "cell_type": "markdown",
   "metadata": {},
   "source": [
    "### The Training Loop\n",
    "\n",
    "Let's add the batch size to be 250k tokens.  Like Smallest Llama models. "
   ]
  },
  {
   "cell_type": "code",
   "execution_count": null,
   "metadata": {},
   "outputs": [
    {
     "name": "stdout",
     "output_type": "stream",
     "text": [
      "This model has 52.32M  params\n",
      "The vocab size is 49152, meaning the initial loss should be ~10.803\n",
      "Step:     1,  Tokens:  0.262M, Loss:  10.978, Loss_ave:  10.978, Perplexity:  58570.7\n",
      "Step:   101,  Tokens: 26.477M, Loss:   7.549, Loss_ave:   8.740, Perplexity:   1899.3\n"
     ]
    },
    {
     "ename": "KeyboardInterrupt",
     "evalue": "",
     "output_type": "error",
     "traceback": [
      "\u001b[0;31m---------------------------------------------------------------------------\u001b[0m",
      "\u001b[0;31mKeyboardInterrupt\u001b[0m                         Traceback (most recent call last)",
      "Cell \u001b[0;32mIn[6], line 34\u001b[0m\n\u001b[1;32m     32\u001b[0m \u001b[38;5;66;03m# Backpropagation\u001b[39;00m\n\u001b[1;32m     33\u001b[0m loss\u001b[38;5;241m.\u001b[39mbackward()\n\u001b[0;32m---> 34\u001b[0m step_losses\u001b[38;5;241m.\u001b[39mappend(\u001b[43mloss\u001b[49m\u001b[38;5;241;43m.\u001b[39;49m\u001b[43mitem\u001b[49m\u001b[43m(\u001b[49m\u001b[43m)\u001b[49m)\n\u001b[1;32m     36\u001b[0m \u001b[38;5;28;01mif\u001b[39;00m (step \u001b[38;5;241m+\u001b[39m \u001b[38;5;241m1\u001b[39m) \u001b[38;5;241m%\u001b[39m accum_iter \u001b[38;5;241m==\u001b[39m \u001b[38;5;241m0\u001b[39m:\n\u001b[1;32m     37\u001b[0m     optimizer\u001b[38;5;241m.\u001b[39mstep()\n",
      "\u001b[0;31mKeyboardInterrupt\u001b[0m: "
     ]
    }
   ],
   "source": [
    "device = \"mps\"\n",
    "model = model.to(device)\n",
    "loss_fn = nn.CrossEntropyLoss()\n",
    "optimizer = torch.optim.AdamW(model.parameters(), lr=1e-3)\n",
    "accum_iter = 512 // batch_size\n",
    "w_steps = 2000\n",
    "scheduler = torch.optim.lr_scheduler.LinearLR(optimizer, start_factor=0.01, total_iters=w_steps)\n",
    "\n",
    "num_params = sum([p.numel() for p in model.parameters()]) / 1.0e6\n",
    "print(f\"This model has {num_params:.2f}M  params\")\n",
    "print(\n",
    "    f\"The vocab size is {tokenizer.vocab_size}, meaning the initial loss should be ~{math.log(tokenizer.vocab_size):.3f}\"\n",
    ")\n",
    "model.train()\n",
    "step_losses = []\n",
    "losses = []\n",
    "for step, batch in enumerate(train_dl):\n",
    "\n",
    "    # Get data\n",
    "    x = batch[\"input_ids\"].to(device)\n",
    "    att_mask = batch[\"attention_mask\"].to(device)\n",
    "\n",
    "    # Compute prediction error\n",
    "    logits = model(x)\n",
    "\n",
    "    # Shift to compare loss correctly\n",
    "    shifted_logits = logits[:, :-1].contiguous()\n",
    "    labels = x[:, 1:].contiguous()\n",
    "    loss = loss_fn(shifted_logits.view(-1, shifted_logits.size(-1)), labels.view(-1))\n",
    "    loss = loss / accum_iter\n",
    "\n",
    "    # Backpropagation\n",
    "    loss.backward()\n",
    "    step_losses.append(loss.item())\n",
    "\n",
    "    if (step + 1) % accum_iter == 0:\n",
    "        optimizer.step()\n",
    "        optimizer.zero_grad()\n",
    "        losses.append(sum(step_losses[-accum_iter:]))\n",
    "\n",
    "        acc_step = (step + 1) // accum_iter\n",
    "        scheduler.step()\n",
    "        if (acc_step - 1) % 100 == 0:\n",
    "            #  f\"Step: {acc_step:>5d},  Tokens:{batch_size*context_length*accum_iter*acc_step/1.0e6:>7.3f}M,  LR: {scheduler.get_last_lr()[-1]:.2e}, Loss: {losses[-1]:>7.3f}, Perplexity:  {math.exp(losses[-1]):>7.1f}\"\n",
    "\n",
    "            print(\n",
    "                f\"Step: {acc_step:>5d},  Tokens:{batch_size*context_length*accum_iter*acc_step/1.0e6:>7.3f}M, Loss: {losses[-1]:>7.3f}, Loss_ave: {sum(losses[-100:])/len(losses[-100:]):>7.3f}, Perplexity:  {math.exp(losses[-1]):>7.1f}\"\n",
    "            )\n",
    "            # Step:   401,  Tokens: 26.280M, Loss:   6.782, Perplexity:    882.0\n",
    "        \n",
    "    if (step + 1) % 50000 == 0:\n",
    "        break"
   ]
  },
  {
   "cell_type": "code",
   "execution_count": 7,
   "metadata": {},
   "outputs": [
    {
     "data": {
      "text/plain": [
       "[<matplotlib.lines.Line2D at 0x15a790350>]"
      ]
     },
     "execution_count": 7,
     "metadata": {},
     "output_type": "execute_result"
    },
    {
     "data": {
      "image/png": "[encoded data removed]",
      "text/plain": [
       "<Figure size 640x480 with 1 Axes>"
      ]
     },
     "metadata": {},
     "output_type": "display_data"
    }
   ],
   "source": [
    "plt.plot(losses)"
   ]
  },
  {
   "cell_type": "code",
   "execution_count": 8,
   "metadata": {},
   "outputs": [
    {
     "name": "stdout",
     "output_type": "stream",
     "text": [
      "Input ids for woman is [24626]\n",
      "Top 25 closest tokens to woman by cosine similarity: \n",
      "Token: 25277,     progressed,   Similarity: 0.1799\n",
      "Token: 37415,          Aires,   Similarity: 0.1737\n",
      "Token: 43839,      emanating,   Similarity: 0.1735\n",
      "Token: 32466,       suitable,   Similarity: 0.1658\n",
      "Token: 28719,      incapable,   Similarity: 0.1655\n",
      "Token: 18918,           hadn,   Similarity: 0.1607\n",
      "Token: 10606,        shouldn,   Similarity: 0.1602\n",
      "Token: 21741,         ostics,   Similarity: 0.1592\n",
      "Token: 12829,      succeeded,   Similarity: 0.1588\n",
      "Token: 15979,       stumbled,   Similarity: 0.1580\n",
      "Token: 41425,       armament,   Similarity: 0.1580\n",
      "Token: 35771,           Hume,   Similarity: 0.1573\n",
      "Token: 47421,          unals,   Similarity: 0.1559\n",
      "Token: 38298,          Roads,   Similarity: 0.1557\n",
      "Token: 11535,          weren,   Similarity: 0.1556\n",
      "Token: 41894,         skills,   Similarity: 0.1522\n",
      "Token: 38213,          isins,   Similarity: 0.1520\n",
      "Token:  9988,         itches,   Similarity: 0.1519\n",
      "Token:  7556,       supposed,   Similarity: 0.1517\n",
      "Token: 34389,          Poles,   Similarity: 0.1507\n",
      "Token: 13204,         nesday,   Similarity: 0.1502\n",
      "Token:  3719,          efore,   Similarity: 0.1501\n",
      "Token:  6134,          chers,   Similarity: 0.1500\n",
      "Token: 48641,     mattresses,   Similarity: 0.1496\n",
      "Token: 29399,     institutes,   Similarity: 0.1495\n"
     ]
    }
   ],
   "source": [
    "# Assuming the embedding layer is already trained\n",
    "layer = model.embedding.to('cpu')\n",
    "\n",
    "# Get the embedding for 'king' (e.g., assuming 'king' corresponds to token index 0)\n",
    "k = 200\n",
    "word = 'woman'\n",
    "\n",
    "print (f\"Input ids for {word} is {tokenizer(word)['input_ids']}\")\n",
    "\n",
    "word_index = tokenizer(word)['input_ids'][0]\n",
    "word_embedding = layer(torch.tensor(word_index)).detach()  # Get the embedding for 'king'\n",
    "\n",
    "# Get all embeddings\n",
    "all_embeddings = layer.weight.detach()  # Extract all embeddings\n",
    "\n",
    "\n",
    "# Compute cosine similarity between 'king' and all other tokens\n",
    "cosine_similarities = F.cosine_similarity(word_embedding.unsqueeze(0), all_embeddings, dim=1)\n",
    "\n",
    "# Get the indices of the 10 most similar tokens (excluding 'king' itself)\n",
    "top_k = torch.topk(cosine_similarities, k=k+1)  # Top 11 because 'king' will be in the list\n",
    "top_k_indices = top_k.indices[top_k.indices != word_index][:k]  # Exclude 'king'\n",
    "\n",
    "\n",
    "# Print the 10 closest tokens and their similarities\n",
    "print(f\"Top 25 closest tokens to {word} by cosine similarity: \")\n",
    "ii = 0\n",
    "for idx in top_k_indices:\n",
    "    #print(idx.item())\n",
    "    idx_word = tokenizer.decode(idx.item()).replace('\\n','')\n",
    "    if len(idx_word) > 4:\n",
    "        print(f\"Token: {idx.item():5d}, {idx_word:>14s},   Similarity: {cosine_similarities[idx].item():.4f}\")\n",
    "        ii += 1\n",
    "        if ii > 24:\n",
    "            break\n",
    "\n",
    "\n",
    "\n"
   ]
  },
  {
   "cell_type": "code",
   "execution_count": 9,
   "metadata": {},
   "outputs": [
    {
     "name": "stdout",
     "output_type": "stream",
     "text": [
      "\n",
      "Top 25 closest tokens to woman by distance: \n",
      "Token: 42765,      vibrating,   Distance: 0.77\n",
      "Token:  6134,          chers,   Distance: 0.78\n",
      "Token: 38298,          Roads,   Distance: 0.78\n",
      "Token: 21741,         ostics,   Distance: 0.78\n",
      "Token: 37415,          Aires,   Distance: 0.78\n",
      "Token: 47941,       Nagasaki,   Distance: 0.78\n",
      "Token:  6209,         cience,   Distance: 0.78\n",
      "Token: 34389,          Poles,   Distance: 0.78\n",
      "Token: 35771,           Hume,   Distance: 0.78\n",
      "Token:  8980,         Centre,   Distance: 0.78\n",
      "Token:  8739,           rose,   Distance: 0.78\n",
      "Token: 47669,           Tags,   Distance: 0.78\n",
      "Token: 44621,         pylori,   Distance: 0.78\n",
      "Token: 49019,          henes,   Distance: 0.78\n",
      "Token: 13281,       pipeline,   Distance: 0.78\n",
      "Token: 31326,          pedal,   Distance: 0.78\n",
      "Token: 29140,           Owen,   Distance: 0.78\n",
      "Token: 40496,         canola,   Distance: 0.79\n",
      "Token: 22534,          uncle,   Distance: 0.79\n",
      "Token: 43443,         Groups,   Distance: 0.79\n",
      "Token: 35600,         rabble,   Distance: 0.79\n",
      "Token: 36190,         sprout,   Distance: 0.79\n",
      "Token: 21821,           calf,   Distance: 0.79\n",
      "Token: 23843,      carbonate,   Distance: 0.79\n",
      "Token: 21111,           kiss,   Distance: 0.79\n"
     ]
    }
   ],
   "source": [
    "distances = torch.norm(all_embeddings - word_embedding, dim=1)  # Compute L2 norm (Euclidean distance)\n",
    "\n",
    "# Get the indices of the 10 closest tokens (excluding 'king' itself)\n",
    "top_k = torch.topk(-distances, k=k+1)  # Use negative distances to mimic \\\"closest\\\"\n",
    "top_k_indices = top_k.indices[top_k.indices != word_index][:k]  # Exclude 'king'\n",
    "\n",
    "# Print the 10 closest tokens and their distances\n",
    "print(f\"\\nTop 25 closest tokens to {word} by distance: \")\n",
    "ii = 0\n",
    "for idx in top_k_indices:\n",
    "    #print(idx.item())\n",
    "    idx_word = tokenizer.decode(idx.item()).replace('\\n','')\n",
    "    if len(idx_word) > 4:    \n",
    "        print(f\"Token: {idx.item():5d}, {tokenizer.decode(idx.item()).replace('\\n',''):>14s},   Distance: {distances[idx].item():.2f}\")\n",
    "        ii += 1\n",
    "        if ii > 24:\n",
    "            break\n"
   ]
  },
  {
   "cell_type": "code",
   "execution_count": null,
   "metadata": {},
   "outputs": [
    {
     "name": "stdout",
     "output_type": "stream",
     "text": [
      "40.558848\n"
     ]
    }
   ],
   "source": [
    "# We will inherit from Pytorch's Module class\n",
    "class EmbeddingModel(nn.Module):\n",
    "    def __init__(self, vocab_size: int, n_embed: int):\n",
    "        super().__init__()\n",
    "\n",
    "        # Map tokens to embedding space with dimension n_embed\n",
    "        self.embedding = nn.Embedding(vocab_size, embedding_dim=n_embed)\n",
    "\n",
    "        self.fft1 = nn.Sequential(nn.Linear(n_embed, 3*n_embed),\n",
    "                                 nn.ReLU(),\n",
    "                                 nn.Linear(n_embed, 3*n_embed))\n",
    "        \n",
    "        self.fft2 = nn.Sequential(nn.Linear(n_embed, 3*n_embed),\n",
    "                                 nn.ReLU(),\n",
    "                                 nn.Linear(n_embed, 3*n_embed))\n",
    "                               \n",
    "\n",
    "        # Now map back to make prediction for next tokens, called logits.  The layer that\n",
    "        # does this is traditionally a linear layer called the lannguage model head.\n",
    "        self.lm_head = nn.Linear(n_embed, vocab_size, bias=False)\n",
    "        self.embedding.weight = self.lm_head.weight\n",
    "        \n",
    "\n",
    "    # Pytorch Modules have a forward method that is what is executed when the model is called\n",
    "    # The input is the (batch, tokens) tensor and a (batch, logits) tensor is returned\n",
    "    def forward(self, x: torch.Tensor) -> torch.Tensor:\n",
    "        x = self.embedding(x)\n",
    "        x = self.fft1(x)\n",
    "        x = self.fft2(x)\n",
    "        logits = self.lm_head(x)\n",
    "        return logits\n",
    "    \n",
    "# Let's create the model\n",
    "model = EmbeddingModel(vocab_size = tokenizer.vocab_size, n_embed=704)\n",
    "\n",
    "# Let's see how many parameters we have\n",
    "print (sum([p.numel() for p in model.parameters()])/1.0e6)\n"
   ]
  },
  {
   "cell_type": "code",
   "execution_count": 28,
   "metadata": {},
   "outputs": [
    {
     "data": {
      "text/plain": [
       "56.0"
      ]
     },
     "execution_count": 28,
     "metadata": {},
     "output_type": "execute_result"
    }
   ],
   "source": [
    "40*7/5."
   ]
  },
  {
   "cell_type": "code",
   "execution_count": null,
   "metadata": {},
   "outputs": [],
   "source": []
  }
 ],
 "metadata": {
  "kernelspec": {
   "display_name": ".venv",
   "language": "python",
   "name": "python3"
  },
  "language_info": {
   "codemirror_mode": {
    "name": "ipython",
    "version": 3
   },
   "file_extension": ".py",
   "mimetype": "text/x-python",
   "name": "python",
   "nbconvert_exporter": "python",
   "pygments_lexer": "ipython3",
   "version": "3.12.8"
  }
 },
 "nbformat": 4,
 "nbformat_minor": 2
}
