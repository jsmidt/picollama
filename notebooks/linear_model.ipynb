{
 "cells": [
  {
   "cell_type": "code",
   "execution_count": 1,
   "metadata": {},
   "outputs": [],
   "source": [
    "import math\n",
    "import torch\n",
    "import torch.nn as nn\n",
    "import torch.nn.functional as F\n",
    "from torch.utils.data import DataLoader\n",
    "from transformers import AutoTokenizer\n",
    "from datasets import load_dataset\n",
    "import matplotlib.pyplot as plt\n",
    "\n",
    "# Set a seed for reproduceability\n",
    "seed = 42"
   ]
  },
  {
   "cell_type": "markdown",
   "metadata": {},
   "source": [
    "## Linear model: MLPs, Weight Tieing, and batch size\n",
    "\n",
    "In this notebook, we explore what happens if we turn the final lm_head output layer into a couple of MLP layers, keeping the parameter count around 50M. We also add some complexity to the training loop such as batch size and warmup steps.  \n",
    "\n"
   ]
  },
  {
   "cell_type": "code",
   "execution_count": 2,
   "metadata": {},
   "outputs": [],
   "source": [
    "# Set Tokenizer\n",
    "\n",
    "# 512 is a good minimal context length in principle large enough to understand paragraphs\n",
    "context_length = 512\n",
    "\n",
    "# The original Llama 2 tokenizer is available from Huggingface, but we will use the more\n",
    "# up-to-date Cosmo2 toenizer provided by Huggingface for the Llama-like SmolLM models\n",
    "tokenizer = AutoTokenizer.from_pretrained(\"HuggingFaceTB/cosmo2-tokenizer\")\n",
    "tokenizer.model_max_length = context_length\n",
    "# There are times we need to pad.  We will make the padding token the same one that \n",
    "# signals end of sentance.\n",
    "tokenizer.pad_token = tokenizer.eos_token"
   ]
  },
  {
   "cell_type": "code",
   "execution_count": 3,
   "metadata": {},
   "outputs": [
    {
     "data": {
      "application/vnd.jupyter.widget-view+json": {
       "model_id": "85794b37fe7c401eb240b8beb03ca0c7",
       "version_major": 2,
       "version_minor": 0
      },
      "text/plain": [
       "Resolving data files:   0%|          | 0/104 [00:00<?, ?it/s]"
      ]
     },
     "metadata": {},
     "output_type": "display_data"
    },
    {
     "data": {
      "application/vnd.jupyter.widget-view+json": {
       "model_id": "ce589891ffd64a57b872174b960cd2e5",
       "version_major": 2,
       "version_minor": 0
      },
      "text/plain": [
       "Resolving data files:   0%|          | 0/104 [00:00<?, ?it/s]"
      ]
     },
     "metadata": {},
     "output_type": "display_data"
    }
   ],
   "source": [
    "# Set dataset\n",
    "\n",
    "# Set batch size\n",
    "batch_size = 8\n",
    "\n",
    "# Load dataset from hugging face in streaming mode.\n",
    "dataset = load_dataset(\"HuggingFaceTB/smollm-corpus\", \"cosmopedia-v2\", split=\"train\", streaming=True)\n",
    "\n",
    "# Create a tokenize fundtion.\n",
    "def tokenize(item):\n",
    "    x = tokenizer(\n",
    "        item['text'],\n",
    "        truncation=True,\n",
    "        padding=True,\n",
    "        max_length=context_length,\n",
    "        return_tensors=\"pt\",\n",
    "    )\n",
    "\n",
    "    return x\n",
    "\n",
    "\n",
    "tokenized_dataset = dataset.map(\n",
    "    tokenize, batched=True, remove_columns=dataset.column_names\n",
    ")\n",
    "train_dl = DataLoader(dataset=tokenized_dataset, batch_size=batch_size)"
   ]
  },
  {
   "cell_type": "markdown",
   "metadata": {},
   "source": [
    "### Building linear model\n",
    "\n",
    "Now let's make a linear model using a couple of back to back MLPs with Relu activation functions to explore if this is superior to just the embedding layer with linear output, assuming parameters are fixed to roughly 50M parameters.  "
   ]
  },
  {
   "cell_type": "code",
   "execution_count": 4,
   "metadata": {},
   "outputs": [],
   "source": [
    "# We will inherit from Pytorch's Module class\n",
    "class LinearModel(nn.Module):\n",
    "    def __init__(self, vocab_size: int, n_embed: int):\n",
    "        super().__init__()\n",
    "\n",
    "        # Map tokens to embedding space with dimension n_embed\n",
    "        self.embedding = nn.Embedding(vocab_size, embedding_dim=n_embed)\n",
    "\n",
    "        self.fft1 = nn.Sequential(nn.Linear(n_embed, 4*n_embed),\n",
    "                                 nn.ReLU(),\n",
    "                                 nn.Linear(4*n_embed, n_embed))\n",
    "        \n",
    "        self.fft2 = nn.Sequential(nn.Linear(n_embed, 4*n_embed),\n",
    "                                 nn.ReLU(),\n",
    "                                 nn.Linear(4*n_embed, n_embed))\n",
    "                               \n",
    "\n",
    "        # Now map back to make prediction for next tokens, called logits.  The layer that\n",
    "        # does this is traditionally a linear layer called the lannguage model head.\n",
    "        self.lm_head = nn.Linear(n_embed, vocab_size, bias=False)\n",
    "        self.embedding.weight = self.lm_head.weight\n",
    "        \n",
    "\n",
    "    # Pytorch Modules have a forward method that is what is executed when the model is called\n",
    "    # The input is the (batch, tokens) tensor and a (batch, logits) tensor is returned\n",
    "    def forward(self, x: torch.Tensor) -> torch.Tensor:\n",
    "        x = self.embedding(x)\n",
    "        x = self.fft1(x)\n",
    "        x = self.fft2(x)\n",
    "        logits = self.lm_head(x)\n",
    "        return logits"
   ]
  },
  {
   "cell_type": "code",
   "execution_count": 5,
   "metadata": {},
   "outputs": [
    {
     "name": "stdout",
     "output_type": "stream",
     "text": [
      "51.978368\n"
     ]
    }
   ],
   "source": [
    "# Let's create the model\n",
    "model = LinearModel(vocab_size = tokenizer.vocab_size, n_embed=832)\n",
    "\n",
    "# Let's see how many parameters we have\n",
    "print (sum([p.numel() for p in model.parameters()])/1.0e6)\n"
   ]
  },
  {
   "cell_type": "markdown",
   "metadata": {},
   "source": [
    "### The Training Loop\n",
    "\n",
    "Let's add the batch size to be 250k tokens.  Like Smallest Llama models. "
   ]
  },
  {
   "cell_type": "code",
   "execution_count": 7,
   "metadata": {},
   "outputs": [
    {
     "name": "stdout",
     "output_type": "stream",
     "text": [
      "This model has 51.98M  params\n",
      "The vocab size is 49152, meaning the initial loss should be ~10.803\n",
      "Step:     1,  Tokens:  0.066M,  Loss:  10.289, Perplexity:  29401.7\n",
      "Step:    51,  Tokens:  3.342M,  Loss:   7.368, Perplexity:   1583.8\n",
      "Step:   101,  Tokens:  6.619M,  Loss:   7.246, Perplexity:   1403.1\n",
      "Step:   151,  Tokens:  9.896M,  Loss:   7.026, Perplexity:   1125.5\n",
      "Step:   201,  Tokens: 13.173M,  Loss:   6.838, Perplexity:    932.7\n",
      "Step:   251,  Tokens: 16.450M,  Loss:   6.821, Perplexity:    916.6\n",
      "Step:   301,  Tokens: 19.726M,  Loss:   6.452, Perplexity:    634.2\n",
      "Step:   351,  Tokens: 23.003M,  Loss:   6.451, Perplexity:    633.5\n",
      "Step:   401,  Tokens: 26.280M,  Loss:   6.133, Perplexity:    460.9\n",
      "Step:   451,  Tokens: 29.557M,  Loss:   6.145, Perplexity:    466.4\n",
      "Step:   501,  Tokens: 32.834M,  Loss:   6.189, Perplexity:    487.2\n",
      "Step:   551,  Tokens: 36.110M,  Loss:   6.107, Perplexity:    449.0\n",
      "Step:   601,  Tokens: 39.387M,  Loss:   6.000, Perplexity:    403.3\n",
      "Step:   651,  Tokens: 42.664M,  Loss:   5.980, Perplexity:    395.5\n",
      "Step:   701,  Tokens: 45.941M,  Loss:   5.897, Perplexity:    364.0\n",
      "Step:   751,  Tokens: 49.218M,  Loss:   5.972, Perplexity:    392.2\n",
      "Step:   801,  Tokens: 52.494M,  Loss:   5.950, Perplexity:    383.9\n",
      "Step:   851,  Tokens: 55.771M,  Loss:   5.827, Perplexity:    339.5\n",
      "Step:   901,  Tokens: 59.048M,  Loss:   5.760, Perplexity:    317.5\n",
      "Step:   951,  Tokens: 62.325M,  Loss:   5.887, Perplexity:    360.4\n",
      "Step:  1001,  Tokens: 65.602M,  Loss:   5.669, Perplexity:    289.7\n",
      "Step:  1051,  Tokens: 68.878M,  Loss:   5.727, Perplexity:    306.9\n",
      "Step:  1101,  Tokens: 72.155M,  Loss:   5.770, Perplexity:    320.7\n",
      "Step:  1151,  Tokens: 75.432M,  Loss:   5.680, Perplexity:    293.0\n",
      "Step:  1201,  Tokens: 78.709M,  Loss:   5.687, Perplexity:    295.0\n",
      "Step:  1251,  Tokens: 81.986M,  Loss:   5.725, Perplexity:    306.3\n",
      "Step:  1301,  Tokens: 85.262M,  Loss:   5.647, Perplexity:    283.5\n",
      "Step:  1351,  Tokens: 88.539M,  Loss:   5.523, Perplexity:    250.5\n",
      "Step:  1401,  Tokens: 91.816M,  Loss:   5.706, Perplexity:    300.6\n",
      "Step:  1451,  Tokens: 95.093M,  Loss:   5.705, Perplexity:    300.5\n",
      "Step:  1501,  Tokens: 98.370M,  Loss:   5.585, Perplexity:    266.3\n",
      "Step:  1551,  Tokens:101.646M,  Loss:   5.682, Perplexity:    293.7\n"
     ]
    }
   ],
   "source": [
    "device = \"mps\"\n",
    "model = model.to(device)\n",
    "loss_fn = nn.CrossEntropyLoss()\n",
    "optimizer = torch.optim.AdamW(model.parameters(), lr=1e-4)\n",
    "accum_iter = 128 // batch_size\n",
    "\n",
    "num_params = sum([p.numel() for p in model.parameters()]) / 1.0e6\n",
    "print(f\"This model has {num_params:.2f}M  params\")\n",
    "print(\n",
    "    f\"The vocab size is {tokenizer.vocab_size}, meaning the initial loss should be ~{math.log(tokenizer.vocab_size):.3f}\"\n",
    ")\n",
    "model.train()\n",
    "step_losses = []\n",
    "losses = []\n",
    "for step, batch in enumerate(train_dl):\n",
    "\n",
    "    # Get data\n",
    "    x = batch[\"input_ids\"].to(device)\n",
    "    att_mask = batch[\"attention_mask\"].to(device)\n",
    "\n",
    "    # Compute prediction error\n",
    "    logits = model(x)\n",
    "\n",
    "    # Shift to compare loss correctly\n",
    "    shifted_logits = logits[:, :-1].contiguous()\n",
    "    labels = x[:, 1:].contiguous()\n",
    "    loss = loss_fn(shifted_logits.view(-1, shifted_logits.size(-1)), labels.view(-1))\n",
    "    loss = loss / accum_iter\n",
    "\n",
    "    # Backpropagation\n",
    "    loss.backward()\n",
    "    step_losses.append(loss.item())\n",
    "\n",
    "    if (step + 1) % accum_iter == 0:\n",
    "        optimizer.step()\n",
    "        optimizer.zero_grad()\n",
    "        losses.append(sum(step_losses[-accum_iter:]))\n",
    "\n",
    "        acc_step = (step + 1) // accum_iter\n",
    "        if (acc_step - 1) % 50 == 0:\n",
    "            print(\n",
    "                f\"Step: {acc_step:>5d},  Tokens:{batch_size*context_length*accum_iter*acc_step/1.0e6:>7.3f}M,  Loss: {losses[-1]:>7.3f}, Perplexity:  {math.exp(losses[-1]):>7.1f}\"\n",
    "            )\n",
    "    if (step + 1) % 25000 == 0:\n",
    "        break"
   ]
  },
  {
   "cell_type": "code",
   "execution_count": 8,
   "metadata": {},
   "outputs": [
    {
     "data": {
      "text/plain": [
       "[<matplotlib.lines.Line2D at 0x168646390>]"
      ]
     },
     "execution_count": 8,
     "metadata": {},
     "output_type": "execute_result"
    },
    {
     "data": {
      "image/png": "[encoded data removed]",
      "text/plain": [
       "<Figure size 640x480 with 1 Axes>"
      ]
     },
     "metadata": {},
     "output_type": "display_data"
    }
   ],
   "source": [
    "plt.plot(losses)"
   ]
  },
  {
   "cell_type": "code",
   "execution_count": 13,
   "metadata": {},
   "outputs": [
    {
     "name": "stdout",
     "output_type": "stream",
     "text": [
      "Input ids for king is [644]\n",
      "Top 25 closest tokens to king by cosine similarity: \n",
      "Token: 14564,         rology,   Similarity: 0.1443\n",
      "Token: 12823,          ppers,   Similarity: 0.1361\n",
      "Token:  1173,         itions,   Similarity: 0.1361\n",
      "Token: 16585,       Identity,   Similarity: 0.1331\n",
      "Token: 37741,         iticus,   Similarity: 0.1326\n",
      "Token:  4391,        iveness,   Similarity: 0.1326\n",
      "Token:  1436,          ances,   Similarity: 0.1317\n",
      "Token: 38581,       ishments,   Similarity: 0.1296\n",
      "Token: 21028,        Firstly,   Similarity: 0.1287\n",
      "Token: 19193,        istence,   Similarity: 0.1265\n",
      "Token:  3930,        himself,   Similarity: 0.1250\n",
      "Token:  1328,          itive,   Similarity: 0.1247\n",
      "Token: 48817,    Charlemagne,   Similarity: 0.1242\n",
      "Token:  2809,         iation,   Similarity: 0.1229\n",
      "Token: 22370,     Expression,   Similarity: 0.1215\n",
      "Token: 31802,         ematic,   Similarity: 0.1214\n",
      "Token:  7206,        ishment,   Similarity: 0.1210\n",
      "Token: 19905,       Position,   Similarity: 0.1210\n",
      "Token:  3918,         elines,   Similarity: 0.1209\n",
      "Token: 46004,        ivistic,   Similarity: 0.1206\n",
      "Token:  9181,        duction,   Similarity: 0.1203\n",
      "Token:  1857,          ators,   Similarity: 0.1199\n",
      "Token:  2493,        America,   Similarity: 0.1188\n",
      "Token: 16316,          asers,   Similarity: 0.1175\n",
      "Token: 31929,   harmoniously,   Similarity: 0.1172\n"
     ]
    }
   ],
   "source": [
    "# Assuming the embedding layer is already trained\n",
    "layer = model.embedding.to('cpu')\n",
    "\n",
    "# Get the embedding for 'king' (e.g., assuming 'king' corresponds to token index 0)\n",
    "k = 200\n",
    "word = 'king'\n",
    "\n",
    "print (f\"Input ids for {word} is {tokenizer(word)['input_ids']}\")\n",
    "\n",
    "word_index = tokenizer(word)['input_ids'][0]\n",
    "word_embedding = layer(torch.tensor(word_index)).detach()  # Get the embedding for 'king'\n",
    "\n",
    "# Get all embeddings\n",
    "all_embeddings = layer.weight.detach()  # Extract all embeddings\n",
    "\n",
    "\n",
    "# Compute cosine similarity between 'king' and all other tokens\n",
    "cosine_similarities = F.cosine_similarity(word_embedding.unsqueeze(0), all_embeddings, dim=1)\n",
    "\n",
    "# Get the indices of the 10 most similar tokens (excluding 'king' itself)\n",
    "top_k = torch.topk(cosine_similarities, k=k+1)  # Top 11 because 'king' will be in the list\n",
    "top_k_indices = top_k.indices[top_k.indices != word_index][:k]  # Exclude 'king'\n",
    "\n",
    "\n",
    "# Print the 10 closest tokens and their similarities\n",
    "print(f\"Top 25 closest tokens to {word} by cosine similarity: \")\n",
    "ii = 0\n",
    "for idx in top_k_indices:\n",
    "    #print(idx.item())\n",
    "    idx_word = tokenizer.decode(idx.item()).replace('\\n','')\n",
    "    if len(idx_word) > 4:\n",
    "        print(f\"Token: {idx.item():5d}, {idx_word:>14s},   Similarity: {cosine_similarities[idx].item():.4f}\")\n",
    "        ii += 1\n",
    "        if ii > 24:\n",
    "            break\n",
    "\n",
    "\n",
    "\n"
   ]
  },
  {
   "cell_type": "code",
   "execution_count": 14,
   "metadata": {},
   "outputs": [
    {
     "name": "stdout",
     "output_type": "stream",
     "text": [
      "\n",
      "Top 25 closest tokens to king by distance: \n",
      "Token: 10454,        optical,   Distance: 0.79\n",
      "Token: 28679,           Mans,   Distance: 0.80\n",
      "Token: 14564,         rology,   Distance: 0.80\n",
      "Token:  9745,           Line,   Distance: 0.80\n",
      "Token:  8908,           drag,   Distance: 0.80\n",
      "Token: 31776,          spins,   Distance: 0.80\n",
      "Token: 31928,        Extreme,   Distance: 0.80\n",
      "Token: 45962,       Squirrel,   Distance: 0.81\n",
      "Token:  8011,        Academy,   Distance: 0.81\n",
      "Token: 40333,        Utility,   Distance: 0.81\n",
      "Token: 41401,        giraffe,   Distance: 0.81\n",
      "Token:  9829,           Phot,   Distance: 0.81\n",
      "Token: 25451,           Imag,   Distance: 0.81\n",
      "Token: 16128,         Memory,   Distance: 0.81\n",
      "Token: 31887,        noodles,   Distance: 0.81\n",
      "Token:  4270,          ching,   Distance: 0.81\n",
      "Token: 14937,        Capital,   Distance: 0.81\n",
      "Token: 18684,         Silver,   Distance: 0.81\n",
      "Token: 23767,           Mail,   Distance: 0.81\n",
      "Token: 35180,           Hull,   Distance: 0.81\n",
      "Token: 11585,          Blood,   Distance: 0.81\n",
      "Token:  2284,          inter,   Distance: 0.81\n",
      "Token: 26016,          Heavy,   Distance: 0.81\n",
      "Token: 13995,         Advent,   Distance: 0.81\n",
      "Token: 26191,        summers,   Distance: 0.81\n"
     ]
    }
   ],
   "source": [
    "distances = torch.norm(all_embeddings - word_embedding, dim=1)  # Compute L2 norm (Euclidean distance)\n",
    "\n",
    "# Get the indices of the 10 closest tokens (excluding 'king' itself)\n",
    "top_k = torch.topk(-distances, k=k+1)  # Use negative distances to mimic \\\"closest\\\"\n",
    "top_k_indices = top_k.indices[top_k.indices != word_index][:k]  # Exclude 'king'\n",
    "\n",
    "# Print the 10 closest tokens and their distances\n",
    "print(f\"\\nTop 25 closest tokens to {word} by distance: \")\n",
    "ii = 0\n",
    "for idx in top_k_indices:\n",
    "    #print(idx.item())\n",
    "    idx_word = tokenizer.decode(idx.item()).replace('\\n','')\n",
    "    if len(idx_word) > 4:    \n",
    "        print(f\"Token: {idx.item():5d}, {tokenizer.decode(idx.item()).replace('\\n',''):>14s},   Distance: {distances[idx].item():.2f}\")\n",
    "        ii += 1\n",
    "        if ii > 24:\n",
    "            break\n"
   ]
  },
  {
   "cell_type": "code",
   "execution_count": 24,
   "metadata": {},
   "outputs": [
    {
     "name": "stdout",
     "output_type": "stream",
     "text": [
      "49.211136\n"
     ]
    }
   ],
   "source": [
    "class MultiHeadedSelfAttention(nn.Module):\n",
    "    def __init__(self, n_heads: int, n_embed: int):\n",
    "        super().__init__()\n",
    "\n",
    "        assert n_embed % n_heads == 0, \"Number of heads muct divide embedding dimension\"\n",
    "        self.n_heads = n_heads\n",
    "        self.h_dim = n_embed // n_heads\n",
    "\n",
    "        self.k = nn.Linear(n_embed, n_embed)\n",
    "        self.q = nn.Linear(n_embed, n_embed)\n",
    "        self.v= nn.Linear(n_embed, n_embed)\n",
    "\n",
    "        self.proj_out= nn.Linear(n_embed, n_embed)\n",
    "\n",
    "    def forward (self, x: torch.Tensor) -> torch.Tensor:\n",
    "        B, T, C = x.shape\n",
    "\n",
    "        # (B, T, C) -> (B, T, n_heads, h_dim) -> (B, n_heads, T, h_dim)\n",
    "        q = self.q(x).view(B, T, self.n_heads, self.h_dim).transpose(1,2)\n",
    "        k = self.k(x).view(B, T, self.n_heads, self.h_dim).transpose(1,2)\n",
    "        v = self.v(x).view(B, T, self.n_heads, self.h_dim).transpose(1,2)\n",
    "\n",
    "        x = F.scaled_dot_product_attention(q, k, v, is_causal=True)\n",
    "\n",
    "        # (B, n_heads, T, h_dim) -> (B, T, n_heads, h_dim) -> (B, T, C)\n",
    "        x.transpose(1, 2).contiguous().view(B, T, C)\n",
    "\n",
    "        return self.proj_out(x)\n",
    "\n",
    "\n",
    "# We will inherit from Pytorch's Module class\n",
    "class EmbeddingModel(nn.Module):\n",
    "    def __init__(self, vocab_size: int, n_embed: int, n_heads: int):\n",
    "        super().__init__()\n",
    "\n",
    "        # Map tokens to embedding space with dimension n_embed\n",
    "        self.embedding = nn.Embedding(vocab_size, embedding_dim=n_embed)\n",
    "\n",
    "        self.attn = MultiHeadedSelfAttention(n_heads, n_embed)\n",
    "        \n",
    "        self.fft = nn.Sequential(nn.Linear(n_embed, 4*n_embed),\n",
    "                                 nn.ReLU(),\n",
    "                                 nn.Linear(n_embed, 4*n_embed))\n",
    "                               \n",
    "\n",
    "        # Now map back to make prediction for next tokens, called logits.  The layer that\n",
    "        # does this is traditionally a linear layer called the lannguage model head.\n",
    "        self.lm_head = nn.Linear(n_embed, vocab_size, bias=False)\n",
    "        self.embedding.weight = self.lm_head.weight\n",
    "        \n",
    "\n",
    "    # Pytorch Modules have a forward method that is what is executed when the model is called\n",
    "    # The input is the (batch, tokens) tensor and a (batch, logits) tensor is returned\n",
    "    def forward(self, x: torch.Tensor) -> torch.Tensor:\n",
    "        x = self.embedding(x)\n",
    "        x = self.attn(x)\n",
    "        x = self.fft(x)\n",
    "        logits = self.lm_head(x)\n",
    "        return logits\n",
    "    \n",
    "# Let's create the model\n",
    "model = EmbeddingModel(vocab_size = tokenizer.vocab_size, n_embed=832, n_heads=13)\n",
    "\n",
    "# Let's see how many parameters we have\n",
    "print (sum([p.numel() for p in model.parameters()])/1.0e6)\n"
   ]
  },
  {
   "cell_type": "code",
   "execution_count": null,
   "metadata": {},
   "outputs": [],
   "source": []
  }
 ],
 "metadata": {
  "kernelspec": {
   "display_name": ".venv",
   "language": "python",
   "name": "python3"
  },
  "language_info": {
   "codemirror_mode": {
    "name": "ipython",
    "version": 3
   },
   "file_extension": ".py",
   "mimetype": "text/x-python",
   "name": "python",
   "nbconvert_exporter": "python",
   "pygments_lexer": "ipython3",
   "version": "3.12.8"
  }
 },
 "nbformat": 4,
 "nbformat_minor": 2
}
