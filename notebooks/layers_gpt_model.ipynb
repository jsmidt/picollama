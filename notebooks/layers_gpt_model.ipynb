{
 "cells": [
  {
   "cell_type": "code",
   "execution_count": 1,
   "metadata": {},
   "outputs": [],
   "source": [
    "import math\n",
    "import torch\n",
    "import torch.nn as nn\n",
    "import torch.nn.functional as F\n",
    "from torch.utils.data import DataLoader\n",
    "from transformers import AutoTokenizer\n",
    "from datasets import load_dataset\n",
    "import matplotlib.pyplot as plt\n",
    "\n",
    "# Set a seed for reproduceability\n",
    "seed = 42"
   ]
  },
  {
   "cell_type": "markdown",
   "metadata": {},
   "source": [
    "## Linear model: MLPs, Weight Tieing, and batch size\n",
    "\n",
    "In this notebook, we explore what happens if we turn the final lm_head output layer into a couple of MLP layers, keeping the parameter count around 50M. We also add some complexity to the training loop such as batch size and warmup steps.  \n",
    "\n"
   ]
  },
  {
   "cell_type": "code",
   "execution_count": 2,
   "metadata": {},
   "outputs": [],
   "source": [
    "# Set Tokenizer\n",
    "\n",
    "# 512 is a good minimal context length in principle large enough to understand paragraphs\n",
    "context_length = 512\n",
    "\n",
    "# The original Llama 2 tokenizer is available from Huggingface, but we will use the more\n",
    "# up-to-date Cosmo2 toenizer provided by Huggingface for the Llama-like SmolLM models\n",
    "tokenizer = AutoTokenizer.from_pretrained(\"HuggingFaceTB/cosmo2-tokenizer\")\n",
    "tokenizer.model_max_length = context_length\n",
    "# There are times we need to pad.  We will make the padding token the same one that \n",
    "# signals end of sentance.\n",
    "tokenizer.pad_token = tokenizer.eos_token"
   ]
  },
  {
   "cell_type": "code",
   "execution_count": 3,
   "metadata": {},
   "outputs": [
    {
     "data": {
      "application/vnd.jupyter.widget-view+json": {
       "model_id": "03d6846576894a7bb6cc803a3b6e0c3a",
       "version_major": 2,
       "version_minor": 0
      },
      "text/plain": [
       "Resolving data files:   0%|          | 0/104 [00:00<?, ?it/s]"
      ]
     },
     "metadata": {},
     "output_type": "display_data"
    },
    {
     "data": {
      "application/vnd.jupyter.widget-view+json": {
       "model_id": "be193218f9884408a8a9d4a0b228e03b",
       "version_major": 2,
       "version_minor": 0
      },
      "text/plain": [
       "Resolving data files:   0%|          | 0/104 [00:00<?, ?it/s]"
      ]
     },
     "metadata": {},
     "output_type": "display_data"
    }
   ],
   "source": [
    "# Set dataset\n",
    "\n",
    "# Set batch size\n",
    "batch_size = 8\n",
    "\n",
    "# Load dataset from hugging face in streaming mode.\n",
    "dataset = load_dataset(\"HuggingFaceTB/smollm-corpus\", \"cosmopedia-v2\", split=\"train\", streaming=True)\n",
    "\n",
    "# Create a tokenize fundtion.\n",
    "def tokenize(item):\n",
    "    x = tokenizer(\n",
    "        item['text'],\n",
    "        truncation=True,\n",
    "        padding=True,\n",
    "        max_length=context_length,\n",
    "        return_tensors=\"pt\",\n",
    "    )\n",
    "\n",
    "    return x\n",
    "\n",
    "\n",
    "tokenized_dataset = dataset.map(\n",
    "    tokenize, batched=True, remove_columns=dataset.column_names\n",
    ")\n",
    "train_dl = DataLoader(dataset=tokenized_dataset, batch_size=batch_size)"
   ]
  },
  {
   "cell_type": "markdown",
   "metadata": {},
   "source": [
    "### Building linear model\n",
    "\n",
    "Now let's make a linear model using a couple of back to back MLPs with Relu activation functions to explore if this is superior to just the embedding layer with linear output, assuming parameters are fixed to roughly 50M parameters.  "
   ]
  },
  {
   "cell_type": "code",
   "execution_count": 4,
   "metadata": {},
   "outputs": [],
   "source": [
    "class MultiHeadedSelfAttention(nn.Module):\n",
    "    def __init__(self, n_heads: int, n_embed: int, dropout: float, bias: bool):\n",
    "        super().__init__()\n",
    "\n",
    "        assert n_embed % n_heads == 0, \"Number of heads muct divide embedding dimension\"\n",
    "        self.n_heads = n_heads\n",
    "        self.h_dim = n_embed // n_heads\n",
    "        self.dropout = dropout\n",
    "\n",
    "        self.q = nn.Linear(n_embed, n_embed, bias=bias)\n",
    "        self.k = nn.Linear(n_embed, n_embed, bias=bias)\n",
    "        self.v = nn.Linear(n_embed, n_embed, bias=bias)\n",
    "\n",
    "        self.proj_out = nn.Linear(n_embed, n_embed, bias=bias)\n",
    "\n",
    "    def forward(self, x: torch.Tensor) -> torch.Tensor:\n",
    "        B, T, C = x.shape\n",
    "\n",
    "        # (B, T, C) -> (B, T, n_heads, h_dim) -> (B, n_heads, T, h_dim)\n",
    "        q = self.q(x).view(B, T, self.n_heads, self.h_dim).transpose(1, 2)\n",
    "        k = self.k(x).view(B, T, self.n_heads, self.h_dim).transpose(1, 2)\n",
    "        v = self.v(x).view(B, T, self.n_heads, self.h_dim).transpose(1, 2)\n",
    "\n",
    "        x = F.scaled_dot_product_attention(\n",
    "            q, k, v, is_causal=True, dropout_p=self.dropout\n",
    "        )\n",
    "\n",
    "        # (B, n_heads, T, h_dim) -> (B, T, n_heads, h_dim) -> (B, T, C)\n",
    "        x = x.transpose(1, 2).contiguous().view(B, T, C)\n",
    "        return self.proj_out(x)\n",
    "\n",
    "\n",
    "class FeedForward(nn.Module):\n",
    "    def __init__(self, n_embed: int, i_embed: int, dropout: float):\n",
    "        super().__init__()\n",
    "\n",
    "        self.linear1 = nn.Linear(n_embed, i_embed)\n",
    "        self.linear2 = nn.Linear(i_embed, n_embed)\n",
    "        self.act1 = nn.ReLU()\n",
    "        self.dropout = nn.Dropout(dropout)\n",
    "\n",
    "    def forward(self, x: torch.Tensor) -> torch.Tensor:\n",
    "        x = self.linear1(x)\n",
    "        x = self.act1(x)\n",
    "        x = self.linear2(x)\n",
    "\n",
    "        return self.dropout(x)\n",
    "\n",
    "\n",
    "class Block(nn.Module):\n",
    "\n",
    "    def __init__(\n",
    "        self, n_heads: int, n_embed: int, i_embed: int, dropout: float, bias: bool\n",
    "    ):\n",
    "        super().__init__()\n",
    "        self.ln_1 = nn.LayerNorm(n_embed, bias=bias)\n",
    "        self.attn = MultiHeadedSelfAttention(n_heads, n_embed, dropout, bias)\n",
    "        self.ln_2 = nn.LayerNorm(n_embed, bias=bias)\n",
    "        self.ffn = FeedForward(n_embed, i_embed, dropout)\n",
    "\n",
    "    def forward(self, x):\n",
    "        x = x + self.attn(self.ln_1(x))\n",
    "        x = x + self.ffn(self.ln_2(x))\n",
    "        return x\n",
    "\n",
    "\n",
    "# We will inherit from Pytorch's Module class\n",
    "class LayerModel(nn.Module):\n",
    "    def __init__(\n",
    "        self,\n",
    "        vocab_size: int,\n",
    "        context_length: int,\n",
    "        n_embed: int,\n",
    "        i_embed: int,\n",
    "        n_heads: int,\n",
    "        n_layers: int,\n",
    "        dropout: float,\n",
    "        bias: bool,\n",
    "    ):\n",
    "        super().__init__()\n",
    "\n",
    "        # Map tokens to embedding space with dimension n_embed\n",
    "        self.embedding = nn.Embedding(vocab_size, embedding_dim=n_embed)\n",
    "        self.pos_embedding = nn.Embedding(context_length, n_embed)\n",
    "\n",
    "        self.blocks = nn.ModuleList(\n",
    "                [\n",
    "                    Block(n_heads, n_embed, i_embed, dropout, bias)\n",
    "                    for _ in range(n_layers)\n",
    "                ]\n",
    "            )\n",
    "        \n",
    "        self.lnf = nn.LayerNorm(n_embed, bias=bias)\n",
    "\n",
    "        # Now map back to make prediction for next tokens, called logits.  The layer that\n",
    "        # does this is traditionally a linear layer called the lannguage model head.\n",
    "        self.lm_head = nn.Linear(n_embed, vocab_size, bias=False)\n",
    "        self.apply(self._init_weights)\n",
    "        self.embedding.weight = self.lm_head.weight\n",
    "\n",
    "    def _init_weights(self, module):\n",
    "        if isinstance(module, nn.Linear):\n",
    "            torch.nn.init.normal_(module.weight, mean=0.0, std=0.02)\n",
    "            if module.bias is not None:\n",
    "                torch.nn.init.zeros_(module.bias)\n",
    "        elif isinstance(module, nn.Embedding):\n",
    "            torch.nn.init.normal_(module.weight, mean=0.0, std=0.02)\n",
    "\n",
    "    # Pytorch Modules have a forward method that is what is executed when the model is called\n",
    "    # The input is the (batch, tokens) tensor and a (batch, logits) tensor is returned\n",
    "    def forward(self, x: torch.Tensor) -> torch.Tensor:\n",
    "        _, T = x.shape\n",
    "        pos = torch.arange(0, T, dtype=torch.long, device=x.device)\n",
    "        tok_emb = self.embedding(x)\n",
    "        pos_emb = self.pos_embedding(pos)\n",
    "        x = tok_emb + pos_emb\n",
    "        for block in self.blocks:\n",
    "            x = block(x)\n",
    "        x = self.lnf(x)\n",
    "        logits = self.lm_head(x)\n",
    "        return logits"
   ]
  },
  {
   "cell_type": "code",
   "execution_count": 5,
   "metadata": {},
   "outputs": [
    {
     "name": "stdout",
     "output_type": "stream",
     "text": [
      "50.30592\n"
     ]
    }
   ],
   "source": [
    "# Let's create the model\n",
    "model = LayerModel(\n",
    "    vocab_size=tokenizer.vocab_size,\n",
    "    context_length=context_length,\n",
    "    n_embed=576,\n",
    "    i_embed = 1536,\n",
    "    n_heads=9,\n",
    "    n_layers=7,\n",
    "    dropout=0.1,\n",
    "    bias=False,\n",
    ")\n",
    "\n",
    "# Let's see how many parameters we have\n",
    "print(sum([p.numel() for p in model.parameters()]) / 1.0e6)"
   ]
  },
  {
   "cell_type": "markdown",
   "metadata": {},
   "source": [
    "### The Training Loop\n",
    "\n",
    "Let's add the batch size to be 250k tokens.  Like Smallest Llama models. "
   ]
  },
  {
   "cell_type": "code",
   "execution_count": 6,
   "metadata": {},
   "outputs": [
    {
     "name": "stdout",
     "output_type": "stream",
     "text": [
      "This model has 50.31M  params\n",
      "The vocab size is 49152, meaning the initial loss should be ~10.803\n",
      "Step:     1,  Tokens:  0.262M,  LR: 1.05e-05, Loss:  10.963, Loss_ave:  10.963, Perplexity:  57687.5\n",
      "Step:   101,  Tokens: 26.477M,  LR: 6.00e-05, Loss:   7.570, Loss_ave:   8.990, Perplexity:   1939.7\n",
      "Step:   201,  Tokens: 52.691M,  LR: 1.09e-04, Loss:   6.295, Loss_ave:   6.872, Perplexity:    542.1\n",
      "Step:   301,  Tokens: 78.905M,  LR: 1.59e-04, Loss:   5.687, Loss_ave:   5.950, Perplexity:    295.0\n",
      "Step:   401,  Tokens:105.120M,  LR: 2.08e-04, Loss:   5.284, Loss_ave:   5.462, Perplexity:    197.1\n",
      "Step:   501,  Tokens:131.334M,  LR: 2.58e-04, Loss:   4.970, Loss_ave:   5.125, Perplexity:    144.0\n",
      "Step:   601,  Tokens:157.549M,  LR: 3.07e-04, Loss:   4.643, Loss_ave:   4.828, Perplexity:    103.9\n",
      "Step:   701,  Tokens:183.763M,  LR: 3.57e-04, Loss:   4.468, Loss_ave:   4.569, Perplexity:     87.2\n",
      "Step:   801,  Tokens:209.977M,  LR: 4.06e-04, Loss:   4.190, Loss_ave:   4.328, Perplexity:     66.0\n",
      "Step:   901,  Tokens:236.192M,  LR: 4.56e-04, Loss:   4.053, Loss_ave:   4.125, Perplexity:     57.6\n",
      "Step:  1001,  Tokens:262.406M,  LR: 5.05e-04, Loss:   3.853, Loss_ave:   3.947, Perplexity:     47.2\n",
      "Step:  1101,  Tokens:288.621M,  LR: 5.55e-04, Loss:   3.697, Loss_ave:   3.779, Perplexity:     40.3\n",
      "Step:  1201,  Tokens:314.835M,  LR: 6.04e-04, Loss:   3.557, Loss_ave:   3.623, Perplexity:     35.1\n",
      "Step:  1301,  Tokens:341.049M,  LR: 6.54e-04, Loss:   3.445, Loss_ave:   3.482, Perplexity:     31.3\n",
      "Step:  1401,  Tokens:367.264M,  LR: 7.03e-04, Loss:   3.330, Loss_ave:   3.359, Perplexity:     27.9\n",
      "Step:  1501,  Tokens:393.478M,  LR: 7.53e-04, Loss:   3.217, Loss_ave:   3.263, Perplexity:     24.9\n",
      "Step:  1601,  Tokens:419.693M,  LR: 8.02e-04, Loss:   3.130, Loss_ave:   3.187, Perplexity:     22.9\n",
      "Step:  1701,  Tokens:445.907M,  LR: 8.52e-04, Loss:   3.125, Loss_ave:   3.108, Perplexity:     22.8\n",
      "Step:  1801,  Tokens:472.121M,  LR: 9.01e-04, Loss:   3.033, Loss_ave:   3.057, Perplexity:     20.8\n",
      "Step:  1901,  Tokens:498.336M,  LR: 9.51e-04, Loss:   3.022, Loss_ave:   3.012, Perplexity:     20.5\n",
      "Step:  2001,  Tokens:524.550M,  LR: 1.00e-03, Loss:   2.951, Loss_ave:   2.963, Perplexity:     19.1\n",
      "Step:  2101,  Tokens:550.765M,  LR: 1.00e-03, Loss:   2.833, Loss_ave:   2.920, Perplexity:     17.0\n",
      "Step:  2201,  Tokens:576.979M,  LR: 1.00e-03, Loss:   2.925, Loss_ave:   2.878, Perplexity:     18.6\n",
      "Step:  2301,  Tokens:603.193M,  LR: 1.00e-03, Loss:   2.838, Loss_ave:   2.844, Perplexity:     17.1\n"
     ]
    }
   ],
   "source": [
    "device = \"mps\"\n",
    "model = model.to(device)\n",
    "loss_fn = nn.CrossEntropyLoss()\n",
    "optimizer = torch.optim.AdamW(model.parameters(), lr=2e-3)\n",
    "accum_iter = 512 // batch_size\n",
    "w_steps = 2000\n",
    "scheduler = torch.optim.lr_scheduler.LinearLR(optimizer, start_factor=0.01, total_iters=w_steps)\n",
    "\n",
    "num_params = sum([p.numel() for p in model.parameters()]) / 1.0e6\n",
    "print(f\"This model has {num_params:.2f}M  params\")\n",
    "print(\n",
    "    f\"The vocab size is {tokenizer.vocab_size}, meaning the initial loss should be ~{math.log(tokenizer.vocab_size):.3f}\"\n",
    ")\n",
    "model.train()\n",
    "step_losses = []\n",
    "losses = []\n",
    "for step, batch in enumerate(train_dl):\n",
    "\n",
    "    # Get data\n",
    "    x = batch[\"input_ids\"].to(device)\n",
    "    att_mask = batch[\"attention_mask\"].to(device)\n",
    "\n",
    "    # Compute prediction error\n",
    "    logits = model(x)\n",
    "\n",
    "    # Shift to compare loss correctly\n",
    "    shifted_logits = logits[:, :-1].contiguous()\n",
    "    labels = x[:, 1:].contiguous()\n",
    "    loss = loss_fn(shifted_logits.view(-1, shifted_logits.size(-1)), labels.view(-1))\n",
    "    loss = loss / accum_iter\n",
    "\n",
    "    # Backpropagation\n",
    "    loss.backward()\n",
    "    step_losses.append(loss.item())\n",
    "\n",
    "    if (step + 1) % accum_iter == 0:\n",
    "        torch.nn.utils.clip_grad_norm_(model.parameters(), max_norm=1.0)\n",
    "        optimizer.step()\n",
    "        optimizer.zero_grad()\n",
    "        losses.append(sum(step_losses[-accum_iter:]))\n",
    "\n",
    "        acc_step = (step + 1) // accum_iter\n",
    "        scheduler.step()\n",
    "        NN = 200\n",
    "        if (acc_step - 1) % NN == 0:\n",
    "            print(\n",
    "                f\"Step: {acc_step:>5d},  Tokens:{batch_size*context_length*accum_iter*acc_step/1.0e6:>7.2f}M,  LR: {scheduler.get_last_lr()[-1]:.2e}, Loss: {losses[-1]:>7.3f}, Loss_ave: {sum(losses[-NN:])/len(losses[-NN:]):>7.3f}, Perplexity:  {math.exp(losses[-1]):>7.1f}\"\n",
    "            )\n",
    "            # Step:   401,  Tokens: 26.280M, Loss:   6.782, Perplexity:    882.0\n",
    "\n",
    "            # Create a checkpoint dictionary\n",
    "            checkpoint = {\n",
    "                'epoch': acc_step,\n",
    "                'model_state_dict': model.state_dict(),\n",
    "                'optimizer_state_dict': optimizer.state_dict(),\n",
    "                'loss': loss,\n",
    "                # Add any other relevant metrics or data you want to save\n",
    "            }\n",
    "\n",
    "            # Save the checkpoint\n",
    "            torch.save(checkpoint, f'checkpoint_{acc_step-1:04d}.pth')\n",
    "        \n",
    "    if (step + 1) % 250000 == 0:\n",
    "        break"
   ]
  },
  {
   "cell_type": "code",
   "execution_count": 7,
   "metadata": {},
   "outputs": [
    {
     "data": {
      "text/plain": [
       "[<matplotlib.lines.Line2D at 0x16964ae10>]"
      ]
     },
     "execution_count": 7,
     "metadata": {},
     "output_type": "execute_result"
    },
    {
     "data": {
      "image/png": "[encoded data removed]",
      "text/plain": [
       "<Figure size 640x480 with 1 Axes>"
      ]
     },
     "metadata": {},
     "output_type": "display_data"
    }
   ],
   "source": [
    "plt.plot(losses)"
   ]
  },
  {
   "cell_type": "code",
   "execution_count": 8,
   "metadata": {},
   "outputs": [
    {
     "name": "stdout",
     "output_type": "stream",
     "text": [
      "Input ids for woman is [24626]\n",
      "Top 25 closest tokens to woman by cosine similarity: \n",
      "Token: 28774,          women,   Similarity: 0.5754\n",
      "Token: 10202,         person,   Similarity: 0.4553\n",
      "Token: 20336,          Woman,   Similarity: 0.4312\n",
      "Token: 37479,        actress,   Similarity: 0.4249\n",
      "Token: 48281,        persons,   Similarity: 0.4174\n",
      "Token: 40124,         leader,   Similarity: 0.4139\n",
      "Token: 46775,         winner,   Similarity: 0.4031\n",
      "Token: 35054,       daughter,   Similarity: 0.3968\n",
      "Token: 38881,          grave,   Similarity: 0.3932\n",
      "Token: 45547,      president,   Similarity: 0.3919\n",
      "Token: 47461,       director,   Similarity: 0.3910\n",
      "Token: 40503,         Female,   Similarity: 0.3907\n",
      "Token: 44875,       mistress,   Similarity: 0.3866\n",
      "Token: 26998,         runner,   Similarity: 0.3845\n",
      "Token: 44400,      statesman,   Similarity: 0.3778\n",
      "Token: 41820,        brother,   Similarity: 0.3768\n",
      "Token: 47492,         artist,   Similarity: 0.3684\n",
      "Token: 15025,         mother,   Similarity: 0.3675\n",
      "Token: 46191,        heroine,   Similarity: 0.3667\n",
      "Token: 32032,         female,   Similarity: 0.3648\n",
      "Token: 12801,         master,   Similarity: 0.3629\n",
      "Token: 14360,         people,   Similarity: 0.3629\n",
      "Token: 22295,         worker,   Similarity: 0.3610\n",
      "Token: 37093,        senator,   Similarity: 0.3609\n",
      "Token: 38897,      candidate,   Similarity: 0.3594\n"
     ]
    }
   ],
   "source": [
    "# Assuming the embedding layer is already trained\n",
    "layer = model.embedding.to('cpu')\n",
    "\n",
    "# Get the embedding for 'king' (e.g., assuming 'king' corresponds to token index 0)\n",
    "k = 200\n",
    "word = 'woman'\n",
    "\n",
    "print (f\"Input ids for {word} is {tokenizer(word)['input_ids']}\")\n",
    "\n",
    "word_index = tokenizer(word)['input_ids'][0]\n",
    "word_embedding = layer(torch.tensor(word_index)).detach()  # Get the embedding for 'king'\n",
    "\n",
    "# Get all embeddings\n",
    "all_embeddings = layer.weight.detach()  # Extract all embeddings\n",
    "\n",
    "\n",
    "# Compute cosine similarity between 'king' and all other tokens\n",
    "cosine_similarities = F.cosine_similarity(word_embedding.unsqueeze(0), all_embeddings, dim=1)\n",
    "\n",
    "# Get the indices of the 10 most similar tokens (excluding 'king' itself)\n",
    "top_k = torch.topk(cosine_similarities, k=k+1)  # Top 11 because 'king' will be in the list\n",
    "top_k_indices = top_k.indices[top_k.indices != word_index][:k]  # Exclude 'king'\n",
    "\n",
    "\n",
    "# Print the 10 closest tokens and their similarities\n",
    "print(f\"Top 25 closest tokens to {word} by cosine similarity: \")\n",
    "ii = 0\n",
    "for idx in top_k_indices:\n",
    "    #print(idx.item())\n",
    "    idx_word = tokenizer.decode(idx.item()).replace('\\n','')\n",
    "    if len(idx_word) > 4:\n",
    "        print(f\"Token: {idx.item():5d}, {idx_word:>14s},   Similarity: {cosine_similarities[idx].item():.4f}\")\n",
    "        ii += 1\n",
    "        if ii > 24:\n",
    "            break\n",
    "\n",
    "\n",
    "\n"
   ]
  },
  {
   "cell_type": "code",
   "execution_count": 9,
   "metadata": {},
   "outputs": [
    {
     "name": "stdout",
     "output_type": "stream",
     "text": [
      "\n",
      "Top 25 closest tokens to woman by distance: \n",
      "Token: 28774,          women,   Distance: 1.21\n",
      "Token: 38881,          grave,   Distance: 1.32\n",
      "Token: 30999,          swick,   Distance: 1.33\n",
      "Token: 47461,       director,   Distance: 1.33\n",
      "Token: 46728,        printer,   Distance: 1.34\n",
      "Token: 28895,         unanim,   Distance: 1.34\n",
      "Token: 14156,          proto,   Distance: 1.34\n",
      "Token: 44875,       mistress,   Distance: 1.34\n",
      "Token: 27255,      intendent,   Distance: 1.34\n",
      "Token: 34656,         millan,   Distance: 1.35\n",
      "Token:  8436,          galax,   Distance: 1.35\n",
      "Token:  7008,          oples,   Distance: 1.35\n",
      "Token:  7859,     practition,   Distance: 1.35\n",
      "Token:     7,     <gh_stars>,   Distance: 1.35\n",
      "Token: 40849,       XXXXXXXX,   Distance: 1.35\n",
      "Token: 43920,   BooleanField,   Distance: 1.35\n",
      "Token: 31202,   PubMedGoogle,   Distance: 1.35\n",
      "Token:  6037,           harv,   Distance: 1.35\n",
      "Token:     3,    <repo_name>,   Distance: 1.36\n",
      "Token:  9391,          occas,   Distance: 1.36\n",
      "Token: 35357,        imetres,   Distance: 1.36\n",
      "Token: 19419,      caterpill,   Distance: 1.36\n",
      "Token: 36233,         ffield,   Distance: 1.36\n",
      "Token: 46151,      labourers,   Distance: 1.36\n",
      "Token: 13343,          insic,   Distance: 1.36\n"
     ]
    }
   ],
   "source": [
    "distances = torch.norm(all_embeddings - word_embedding, dim=1)  # Compute L2 norm (Euclidean distance)\n",
    "\n",
    "# Get the indices of the 10 closest tokens (excluding 'king' itself)\n",
    "top_k = torch.topk(-distances, k=k+1)  # Use negative distances to mimic \\\"closest\\\"\n",
    "top_k_indices = top_k.indices[top_k.indices != word_index][:k]  # Exclude 'king'\n",
    "\n",
    "# Print the 10 closest tokens and their distances\n",
    "print(f\"\\nTop 25 closest tokens to {word} by distance: \")\n",
    "ii = 0\n",
    "for idx in top_k_indices:\n",
    "    #print(idx.item())\n",
    "    idx_word = tokenizer.decode(idx.item()).replace('\\n','')\n",
    "    if len(idx_word) > 4:    \n",
    "        print(f\"Token: {idx.item():5d}, {tokenizer.decode(idx.item()).replace('\\n',''):>14s},   Distance: {distances[idx].item():.2f}\")\n",
    "        ii += 1\n",
    "        if ii > 24:\n",
    "            break\n"
   ]
  },
  {
   "cell_type": "code",
   "execution_count": null,
   "metadata": {},
   "outputs": [],
   "source": []
  }
 ],
 "metadata": {
  "kernelspec": {
   "display_name": ".venv",
   "language": "python",
   "name": "python3"
  },
  "language_info": {
   "codemirror_mode": {
    "name": "ipython",
    "version": 3
   },
   "file_extension": ".py",
   "mimetype": "text/x-python",
   "name": "python",
   "nbconvert_exporter": "python",
   "pygments_lexer": "ipython3",
   "version": "3.12.8"
  }
 },
 "nbformat": 4,
 "nbformat_minor": 2
}
