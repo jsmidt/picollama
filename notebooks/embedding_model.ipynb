{
 "cells": [
  {
   "cell_type": "code",
   "execution_count": 1,
   "metadata": {},
   "outputs": [],
   "source": [
    "import math\n",
    "import torch\n",
    "import torch.nn as nn\n",
    "import torch.nn.functional as F\n",
    "from torch.utils.data import DataLoader\n",
    "from transformers import AutoTokenizer\n",
    "from datasets import load_dataset\n",
    "import matplotlib.pyplot as plt\n",
    "\n",
    "# Set a seed for reproduceability\n",
    "seed = 42"
   ]
  },
  {
   "cell_type": "markdown",
   "metadata": {},
   "source": [
    "## Tokenizer, dataset, and embedding model\n",
    "\n",
    "In this notebook, we review how to import a tokenizer, dataset and create our simplest model to train: an embedding model.  \n",
    "\n",
    "### Loading the Cosmo2 tokenizer\n",
    "\n",
    "Let's begin with loading a tokenizer.  The defualt LLama2 tokenizer is perfectly fine, but the nice people at Huggingface have a more up-to-date tokenizer, HuggingFaceTB/cosmo2-tokenizer, they use for the SmolLM models, which like our repo is based off of the LLama framework. We will use use the same. \n",
    "\n",
    "If this does not make sense what we are doing, please watch Andrej Kaparty's videos described in the Readme. We will leave it to his videos to explain what a tokenizer is, and how you might code one yourself.  We will just start from the beginning with a modern tokenizer used in the real world. \n",
    "\n",
    "The default context length for this tokenizer is 2048.  We will change that to 512 because we are training a simpler model.  Why 512?  For one, that was the orignal context length used in the GPT model.  Second, because the average paragraph has ~200 words, and there are roughly 2 tokens per word, so 512 ensures our model can at least understand paragraphs.  We will discuss how to increase the context length after training the initial models later like they do in the Llama 3 paper. \n",
    "\n",
    "See [the SmolLM settings](https://github.com/huggingface/smollm/blob/main/pre-training/smollm2/config_smollm2_135M.yaml) for more info on the SmolLM tokenizer, dataset, and other model choices if you want to explore further."
   ]
  },
  {
   "cell_type": "code",
   "execution_count": 2,
   "metadata": {},
   "outputs": [],
   "source": [
    "# 512 is a good minimal context length in principle large enough to understand paragraphs\n",
    "context_length = 512\n",
    "\n",
    "# The original Llama 2 tokenizer is available from Huggingface, but we will use the more\n",
    "# up-to-date Cosmo2 toenizer provided by Huggingface for the Llama-like SmolLM models\n",
    "tokenizer = AutoTokenizer.from_pretrained(\"HuggingFaceTB/cosmo2-tokenizer\")\n",
    "tokenizer.model_max_length = context_length\n",
    "# There are times we need to pad.  We will make the padding token the same one that \n",
    "# signals end of sentance.\n",
    "tokenizer.pad_token = tokenizer.eos_token"
   ]
  },
  {
   "cell_type": "markdown",
   "metadata": {},
   "source": [
    "### Loading the Cosmo2 dataset\n",
    "\n",
    "We do not have access to the exact dataset used by Llama, some of which may be proprietary to Meta. We will use the Cosmo2 dataset provided by Huggingface used to train their LLama-like SmolLM models.  This dataset is quite large so we will use the streaming option to not have to download the whole thing.  If you must download, try to download a small portion of use a smaller dataset available on Huggingface like OpenWebtext. "
   ]
  },
  {
   "cell_type": "code",
   "execution_count": 3,
   "metadata": {},
   "outputs": [
    {
     "data": {
      "application/vnd.jupyter.widget-view+json": {
       "model_id": "b76d4450184d4632a927f58fe3fa9406",
       "version_major": 2,
       "version_minor": 0
      },
      "text/plain": [
       "Resolving data files:   0%|          | 0/104 [00:00<?, ?it/s]"
      ]
     },
     "metadata": {},
     "output_type": "display_data"
    },
    {
     "data": {
      "application/vnd.jupyter.widget-view+json": {
       "model_id": "fdfae876b7a84950b3908a21ee1a4e7c",
       "version_major": 2,
       "version_minor": 0
      },
      "text/plain": [
       "Resolving data files:   0%|          | 0/104 [00:00<?, ?it/s]"
      ]
     },
     "metadata": {},
     "output_type": "display_data"
    },
    {
     "name": "stdout",
     "output_type": "stream",
     "text": [
      "IterableDataset({\n",
      "    features: ['prompt', 'text', 'token_length', 'audience', 'format', 'seed_data'],\n",
      "    num_shards: 104\n",
      "})\n",
      "\n",
      "Here is the text from the first entry:\n",
      "\n",
      " In today's ever-evolving world, technology has become an integral part of our lives, shaping the way we learn, work, and communicate. The COVID-19 pandemic has only accelerated this trend, forcing educational institutions worldwide to adapt quickly to remote learning models. As such, social studies integration in elementary education can greatly benefit from incorporating digital tools like those offered by Ruangguru's Online School. Let's explore how educators can effectively leverage these resources to create engaging and meaningful learning experiences for young students.\n",
      "\n",
      "Firstly, let's define what we mean by social studies integration. Social studies encompasses various disciplines that help students understand their communities, societies, and the wider world around them. These subjects may include history, geography, civics, economics, sociology, and anthropology. By integrating social studies into the curriculum, we aim to foster critical thinking skills, promote cultural awareness, and encourage responsible citizenship among students. Now, let's see how Ruangguru's Online School supports these goals.\n",
      "\n",
      "Ruangguru's Online School offers a wealth of opportunities for elementary students to engage with social studies topics in a dynamic and interactive manner. For instance, instead of simply reading about historical events or figures, students can participate in virtual simulations where they assume roles within specific time periods or cultures. Such immersive experiences allow children to connect emotionally with the material while developing essential collaboration and problem-solving abilities.\n",
      "\n",
      "Another significant advantage of utilizing Ruangguru's platform is accessibility. With many schools closed due to the ongoing health crisis, ensuring continuity of learning has become paramount. Through Ruangguru's mobile application, students can access quality instructional materials anytime, anywhere—an especially crucial feature for families without reliable internet connections at home. Moreover, the platform allows teachers to track student progress, enabling them to provide targeted support and intervention when necessary.\n",
      "\n",
      "Furthermore, Ruangguru recognizes the importance of professional development for educators transitioning to remote teaching environments. To facilitate this process, they offer complimentary online teacher training sessions via their app. During these workshops, instructors can share best practices, discuss challenges, and collaborate on innovative strategies for delivering effective social studies lessons in a virtual setting. Additionally, connecting with fellow professionals fosters a sense of community among teachers, helping them feel supported and valued during uncertain times.\n",
      "\n",
      "Moreover, Ruangguru's Online School aligns seamlessly with current trends emphasizing project-based learning (PBL), which encourages students to apply knowledge and skills to solve authentic problems. For example, students might research local environmental issues, analyze data, and propose solutions using multimedia presentations created within the app. PBL approaches not only deepen conceptual understanding but also empower students to take action and contribute positively to their communities.\n",
      "\n",
      "Lastly, Ruangguru's commitment to providing equitable access to quality education resonates strongly with recent calls for social justice reform in education. By offering free resources and training, they democratize learning opportunities, allowing all students to thrive regardless of socioeconomic background. Furthermore, incorporating diverse perspectives and histories into social studies curricula promotes inclusivity and empathy, preparing future generations to navigate an increasingly interconnected global society.\n",
      "\n",
      "In conclusion, harnessing the power of digital platforms like Ruangguru's Online School can significantly enhance social studies integration efforts at the elementary level. Amidst unprecedented challenges brought forth by the COVID-19 pandemic, embracing innovation becomes vital in creating resilient learners who are well-equipped to tackle complex issues facing our world today. Together, let us strive towards cultivating engaged, informed, and compassionate citizens ready to make a difference in their communities and beyond.\n"
     ]
    }
   ],
   "source": [
    "# Load dataset from hugging face in streaming mode.\n",
    "dataset = load_dataset(\"HuggingFaceTB/smollm-corpus\", \"cosmopedia-v2\", split=\"train\", streaming=True)\n",
    "\n",
    "# The dataset is an IterableDataset. The 'text' field is the feature we want.\n",
    "print (dataset)\n",
    "\n",
    "# Let's extract and look at the text from the first entry\n",
    "item = next(iter(dataset))['text']\n",
    "print ('\\nHere is the text from the first entry:\\n')\n",
    "print (item)"
   ]
  },
  {
   "cell_type": "code",
   "execution_count": 4,
   "metadata": {},
   "outputs": [
    {
     "name": "stdout",
     "output_type": "stream",
     "text": [
      "{'input_ids': tensor([[  533,  1834,   506,  2042,    29, 24186,   905,    28,  1835,   553,\n",
      "          1438,   354, 10021,   599,   282,   653,  2397,    28,  5929,   260,\n",
      "           970,   392,   835,    28,   746,    28,   284,  5865,    30,   378,\n",
      "          7191,    29,    33,    41,  8832,   553,   805, 18438,   451,  4213,\n",
      "            28, 14072,  4096,  4679,  4969,   288,  2930,  3112,   288,  6431,\n",
      "          1380,  2859,    30,  1032,   715,    28,  1329,  2157,  7657,   281,\n",
      "         11289,  1888,   416,  6899,  3724,   429,  6457,  3182,  2549,   702,\n",
      "           967,  5340,   411, 20139,   604,    87, 16634,   506,  8646,  3056,\n",
      "            30,  2959,   506,  2217,   638,  7537,   416,  4025, 17188,   623,\n",
      "          1952,   288,  1464,  4798,   284,  6579,  1380,  2647,   327,  1805,\n",
      "          1058,    30,   198,   198, 21028,    28,  1303,   506,  5879,   732,\n",
      "           392,  1441,   411,  1329,  2157,  7657,    30,  4758,  2157, 15868,\n",
      "          1461, 10578,   338,   724,  1058,  1044,   480,  2429,    28,  6815,\n",
      "            28,   284,   260,  9376,   905,  1130,   601,    30,  1216,  5219,\n",
      "           654,  1453,  1463,    28, 12973,    28, 14422,   747,    28,  9883,\n",
      "            28, 19776,    28,   284, 21840,    30,  1428, 10551,  1329,  2157,\n",
      "           618,   260,  6194,    28,   392,  2748,   288,  6366,  2609,  3039,\n",
      "          1954,    28,  4058,  2642,  4425,    28,   284,  4517,  3358, 14135,\n",
      "          1486,  1058,    30,  3569,    28,  1303,   506,   963,   638, 20139,\n",
      "           604,    87, 16634,   506,  8646,  3056,  6569,   623,  3949,    30,\n",
      "           198,   198,    66, 36112,    87, 16634,   506,  8646,  3056,  3362,\n",
      "           253,  5092,   282,  3036,   327, 11289,  1058,   288,  4555,   351,\n",
      "          1329,  2157,  4366,   281,   253,  6639,   284,  8446,  5710,    30,\n",
      "          1068,  2648,    28,  2489,   282,  2788,  2539,   563,  2844,  2466,\n",
      "           355,  5090,    28,  1058,   416,  6390,   281,  5798, 13621,   837,\n",
      "           502,  7635,  5191,  1127,  1678,   655,  5324,   355,  4520,    30,\n",
      "          5475, 18061,  2647,  1167,  1122,   288,  2084, 13937,   351,   260,\n",
      "          1376,   979,  2941,  1895,  5339,   284,  1732,    29, 11850,  6236,\n",
      "            30,   198,   198,  4809,  1546,  5163,   282, 11824, 20139,   604,\n",
      "            87, 16634,   506,  3941,   314, 11770,    30,  1929,   800,  2764,\n",
      "          6370,  1568,   288,   260,  5185,   864,  6051,    28,  4659, 16186,\n",
      "           282,  1380,   553,  1438, 15133,    30,  3121, 20139,   604,    87,\n",
      "         16634,   506,  6220,  3279,    28,  1058,   416,  1594,  2174, 14883,\n",
      "          2254, 22367,    28,  8471,  1265,   276,  2117,  3202,  3865,   327,\n",
      "          3168,  1355,  7002,  5594,  3962,   418,  1478,    30,  4790,    28,\n",
      "           260,  3941,  2518,  3176,   288,  4320,  2222,  2894,    28,  7426,\n",
      "           601,   288,  1538,  8291,  1199,   284,  5987,   645,  2371,    30,\n",
      "           198,   198, 16707,    28, 20139,   604,    87, 16634, 17084,   260,\n",
      "          2979,   282,  3544,  1421,   327,  7537, 29048,   288,  6431,  3229,\n",
      "          4978,    30,  1626,  7304,   451,   980,    28,   502,  2626, 48711,\n",
      "          2329,  3743,  2534,  7838,  3560,   480,   566,    30,  3897,   623,\n",
      "         10971,    28, 17231,   416,  2419,  1450,  2718,    28,  1692,  2529,\n",
      "            28,   284, 13326,   335,  5635,  3068,   327, 12457,  2430,  1329,\n",
      "          2157,  4431,   281,   253,  5798,  4054,    30,  4454,    28,  8377,\n",
      "           351,  6955,  4991, 12751,   253,  2588,   282,  1773,  1486,  3176,\n",
      "            28,  4307,   601,  1407,  5302,   284, 12637,   981,  7024,  1711,\n",
      "            30,   198,   198, 11725,    28, 20139,   604,    87, 16634,   506,\n",
      "          8646,  3056, 24578, 19218,   351,  1574,  6165, 12242,  1391,    29,\n",
      "          2542,  1380,   365,    64, 11471,   643,   527,  7420,  1058,   288,\n",
      "          3777,  1967,   284,  1954,   288,  5482,  8714,  1828,    30,  1068,\n",
      "          1183,    28,  1058,  1124,  1151,  1679,  2546,  1974,    28,  6524,\n",
      "           940,    28]]), 'attention_mask': tensor([[1, 1, 1, 1, 1, 1, 1, 1, 1, 1, 1, 1, 1, 1, 1, 1, 1, 1, 1, 1, 1, 1, 1, 1,\n",
      "         1, 1, 1, 1, 1, 1, 1, 1, 1, 1, 1, 1, 1, 1, 1, 1, 1, 1, 1, 1, 1, 1, 1, 1,\n",
      "         1, 1, 1, 1, 1, 1, 1, 1, 1, 1, 1, 1, 1, 1, 1, 1, 1, 1, 1, 1, 1, 1, 1, 1,\n",
      "         1, 1, 1, 1, 1, 1, 1, 1, 1, 1, 1, 1, 1, 1, 1, 1, 1, 1, 1, 1, 1, 1, 1, 1,\n",
      "         1, 1, 1, 1, 1, 1, 1, 1, 1, 1, 1, 1, 1, 1, 1, 1, 1, 1, 1, 1, 1, 1, 1, 1,\n",
      "         1, 1, 1, 1, 1, 1, 1, 1, 1, 1, 1, 1, 1, 1, 1, 1, 1, 1, 1, 1, 1, 1, 1, 1,\n",
      "         1, 1, 1, 1, 1, 1, 1, 1, 1, 1, 1, 1, 1, 1, 1, 1, 1, 1, 1, 1, 1, 1, 1, 1,\n",
      "         1, 1, 1, 1, 1, 1, 1, 1, 1, 1, 1, 1, 1, 1, 1, 1, 1, 1, 1, 1, 1, 1, 1, 1,\n",
      "         1, 1, 1, 1, 1, 1, 1, 1, 1, 1, 1, 1, 1, 1, 1, 1, 1, 1, 1, 1, 1, 1, 1, 1,\n",
      "         1, 1, 1, 1, 1, 1, 1, 1, 1, 1, 1, 1, 1, 1, 1, 1, 1, 1, 1, 1, 1, 1, 1, 1,\n",
      "         1, 1, 1, 1, 1, 1, 1, 1, 1, 1, 1, 1, 1, 1, 1, 1, 1, 1, 1, 1, 1, 1, 1, 1,\n",
      "         1, 1, 1, 1, 1, 1, 1, 1, 1, 1, 1, 1, 1, 1, 1, 1, 1, 1, 1, 1, 1, 1, 1, 1,\n",
      "         1, 1, 1, 1, 1, 1, 1, 1, 1, 1, 1, 1, 1, 1, 1, 1, 1, 1, 1, 1, 1, 1, 1, 1,\n",
      "         1, 1, 1, 1, 1, 1, 1, 1, 1, 1, 1, 1, 1, 1, 1, 1, 1, 1, 1, 1, 1, 1, 1, 1,\n",
      "         1, 1, 1, 1, 1, 1, 1, 1, 1, 1, 1, 1, 1, 1, 1, 1, 1, 1, 1, 1, 1, 1, 1, 1,\n",
      "         1, 1, 1, 1, 1, 1, 1, 1, 1, 1, 1, 1, 1, 1, 1, 1, 1, 1, 1, 1, 1, 1, 1, 1,\n",
      "         1, 1, 1, 1, 1, 1, 1, 1, 1, 1, 1, 1, 1, 1, 1, 1, 1, 1, 1, 1, 1, 1, 1, 1,\n",
      "         1, 1, 1, 1, 1, 1, 1, 1, 1, 1, 1, 1, 1, 1, 1, 1, 1, 1, 1, 1, 1, 1, 1, 1,\n",
      "         1, 1, 1, 1, 1, 1, 1, 1, 1, 1, 1, 1, 1, 1, 1, 1, 1, 1, 1, 1, 1, 1, 1, 1,\n",
      "         1, 1, 1, 1, 1, 1, 1, 1, 1, 1, 1, 1, 1, 1, 1, 1, 1, 1, 1, 1, 1, 1, 1, 1,\n",
      "         1, 1, 1, 1, 1, 1, 1, 1, 1, 1, 1, 1, 1, 1, 1, 1, 1, 1, 1, 1, 1, 1, 1, 1,\n",
      "         1, 1, 1, 1, 1, 1, 1, 1]])}\n",
      "tensor([[  533,  1834,   506,  2042,    29, 24186,   905,    28,  1835,   553,\n",
      "          1438,   354, 10021,   599,   282,   653,  2397,    28,  5929,   260,\n",
      "           970,   392,   835,    28,   746,    28,   284,  5865,    30,   378,\n",
      "          7191,    29,    33,    41,  8832,   553,   805, 18438,   451,  4213,\n",
      "            28, 14072,  4096,  4679,  4969,   288,  2930,  3112,   288,  6431,\n",
      "          1380,  2859,    30,  1032,   715,    28,  1329,  2157,  7657,   281,\n",
      "         11289,  1888,   416,  6899,  3724,   429,  6457,  3182,  2549,   702,\n",
      "           967,  5340,   411, 20139,   604,    87, 16634,   506,  8646,  3056,\n",
      "            30,  2959,   506,  2217,   638,  7537,   416,  4025, 17188,   623,\n",
      "          1952,   288,  1464,  4798,   284,  6579,  1380,  2647,   327,  1805,\n",
      "          1058,    30,   198,   198, 21028,    28,  1303,   506,  5879,   732,\n",
      "           392,  1441,   411,  1329,  2157,  7657,    30,  4758,  2157, 15868,\n",
      "          1461, 10578,   338,   724,  1058,  1044,   480,  2429,    28,  6815,\n",
      "            28,   284,   260,  9376,   905,  1130,   601,    30,  1216,  5219,\n",
      "           654,  1453,  1463,    28, 12973,    28, 14422,   747,    28,  9883,\n",
      "            28, 19776,    28,   284, 21840,    30,  1428, 10551,  1329,  2157,\n",
      "           618,   260,  6194,    28,   392,  2748,   288,  6366,  2609,  3039,\n",
      "          1954,    28,  4058,  2642,  4425,    28,   284,  4517,  3358, 14135,\n",
      "          1486,  1058,    30,  3569,    28,  1303,   506,   963,   638, 20139,\n",
      "           604,    87, 16634,   506,  8646,  3056,  6569,   623,  3949,    30,\n",
      "           198,   198,    66, 36112,    87, 16634,   506,  8646,  3056,  3362,\n",
      "           253,  5092,   282,  3036,   327, 11289,  1058,   288,  4555,   351,\n",
      "          1329,  2157,  4366,   281,   253,  6639,   284,  8446,  5710,    30,\n",
      "          1068,  2648,    28,  2489,   282,  2788,  2539,   563,  2844,  2466,\n",
      "           355,  5090,    28,  1058,   416,  6390,   281,  5798, 13621,   837,\n",
      "           502,  7635,  5191,  1127,  1678,   655,  5324,   355,  4520,    30,\n",
      "          5475, 18061,  2647,  1167,  1122,   288,  2084, 13937,   351,   260,\n",
      "          1376,   979,  2941,  1895,  5339,   284,  1732,    29, 11850,  6236,\n",
      "            30,   198,   198,  4809,  1546,  5163,   282, 11824, 20139,   604,\n",
      "            87, 16634,   506,  3941,   314, 11770,    30,  1929,   800,  2764,\n",
      "          6370,  1568,   288,   260,  5185,   864,  6051,    28,  4659, 16186,\n",
      "           282,  1380,   553,  1438, 15133,    30,  3121, 20139,   604,    87,\n",
      "         16634,   506,  6220,  3279,    28,  1058,   416,  1594,  2174, 14883,\n",
      "          2254, 22367,    28,  8471,  1265,   276,  2117,  3202,  3865,   327,\n",
      "          3168,  1355,  7002,  5594,  3962,   418,  1478,    30,  4790,    28,\n",
      "           260,  3941,  2518,  3176,   288,  4320,  2222,  2894,    28,  7426,\n",
      "           601,   288,  1538,  8291,  1199,   284,  5987,   645,  2371,    30,\n",
      "           198,   198, 16707,    28, 20139,   604,    87, 16634, 17084,   260,\n",
      "          2979,   282,  3544,  1421,   327,  7537, 29048,   288,  6431,  3229,\n",
      "          4978,    30,  1626,  7304,   451,   980,    28,   502,  2626, 48711,\n",
      "          2329,  3743,  2534,  7838,  3560,   480,   566,    30,  3897,   623,\n",
      "         10971,    28, 17231,   416,  2419,  1450,  2718,    28,  1692,  2529,\n",
      "            28,   284, 13326,   335,  5635,  3068,   327, 12457,  2430,  1329,\n",
      "          2157,  4431,   281,   253,  5798,  4054,    30,  4454,    28,  8377,\n",
      "           351,  6955,  4991, 12751,   253,  2588,   282,  1773,  1486,  3176,\n",
      "            28,  4307,   601,  1407,  5302,   284, 12637,   981,  7024,  1711,\n",
      "            30,   198,   198, 11725,    28, 20139,   604,    87, 16634,   506,\n",
      "          8646,  3056, 24578, 19218,   351,  1574,  6165, 12242,  1391,    29,\n",
      "          2542,  1380,   365,    64, 11471,   643,   527,  7420,  1058,   288,\n",
      "          3777,  1967,   284,  1954,   288,  5482,  8714,  1828,    30,  1068,\n",
      "          1183,    28,  1058,  1124,  1151,  1679,  2546,  1974,    28,  6524,\n",
      "           940,    28]])\n"
     ]
    }
   ],
   "source": [
    "# Let's tokenize that text.\n",
    "# The tokenizer by default \n",
    "x = tokenizer(item, truncation=True, padding=True, return_tensors='pt')\n",
    "\n",
    "# As you can see the tokenizer has the tokens under 'input_ids'. It also creates \n",
    "# an attention mask to track which tokens to pay attention to.  IE, Not padding. \n",
    "print (x)\n",
    "\n",
    "# Now let's look at the input_ids\n",
    "print (x['input_ids'])\n"
   ]
  },
  {
   "cell_type": "code",
   "execution_count": 5,
   "metadata": {},
   "outputs": [
    {
     "name": "stdout",
     "output_type": "stream",
     "text": [
      " In today's ever-evolving world, technology has become an integral part of our lives, shaping the way we learn, work, and communicate. The COVID-19 pandemic has only accelerated this trend, forcing educational institutions worldwide to adapt quickly to remote learning models. As such, social studies integration in elementary education can greatly benefit from incorporating digital tools like those offered by Ruangguru's Online School. Let's explore how educators can effectively leverage these resources to create engaging and meaningful learning experiences for young students.\n",
      "\n",
      "Firstly, let's define what we mean by social studies integration. Social studies encompasses various disciplines that help students understand their communities, societies, and the wider world around them. These subjects may include history, geography, civics, economics, sociology, and anthropology. By integrating social studies into the curriculum, we aim to foster critical thinking skills, promote cultural awareness, and encourage responsible citizenship among students. Now, let's see how Ruangguru's Online School supports these goals.\n",
      "\n",
      "Ruangguru's Online School offers a wealth of opportunities for elementary students to engage with social studies topics in a dynamic and interactive manner. For instance, instead of simply reading about historical events or figures, students can participate in virtual simulations where they assume roles within specific time periods or cultures. Such immersive experiences allow children to connect emotionally with the material while developing essential collaboration and problem-solving abilities.\n",
      "\n",
      "Another significant advantage of utilizing Ruangguru's platform is accessibility. With many schools closed due to the ongoing health crisis, ensuring continuity of learning has become paramount. Through Ruangguru's mobile application, students can access quality instructional materials anytime, anywhere—an especially crucial feature for families without reliable internet connections at home. Moreover, the platform allows teachers to track student progress, enabling them to provide targeted support and intervention when necessary.\n",
      "\n",
      "Furthermore, Ruangguru recognizes the importance of professional development for educators transitioning to remote teaching environments. To facilitate this process, they offer complimentary online teacher training sessions via their app. During these workshops, instructors can share best practices, discuss challenges, and collaborate on innovative strategies for delivering effective social studies lessons in a virtual setting. Additionally, connecting with fellow professionals fosters a sense of community among teachers, helping them feel supported and valued during uncertain times.\n",
      "\n",
      "Moreover, Ruangguru's Online School aligns seamlessly with current trends emphasizing project-based learning (PBL), which encourages students to apply knowledge and skills to solve authentic problems. For example, students might research local environmental issues, analyze data,\n"
     ]
    }
   ],
   "source": [
    "# Let's check to make sure the tokenized text matechs the above\n",
    "print (tokenizer.decode(x['input_ids'][0]))\n",
    "\n",
    "# It appeads to check out"
   ]
  },
  {
   "cell_type": "markdown",
   "metadata": {},
   "source": [
    "### Prepare tokenized dataset for training\n",
    "\n",
    "To train a model, we need the data to come out in batches of tokens.  To do this we need to map the dataset to tensors of shape (batch_size, context_length).\n",
    "\n",
    "We can do that as follows."
   ]
  },
  {
   "cell_type": "code",
   "execution_count": 6,
   "metadata": {},
   "outputs": [],
   "source": [
    "# Set batch size\n",
    "batch_size = 16\n",
    "\n",
    "\n",
    "# Create a tokenize fundtion.\n",
    "def tokenize(item):\n",
    "    x = tokenizer(\n",
    "        item['text'],\n",
    "        truncation=True,\n",
    "        padding=True,\n",
    "        max_length=context_length,\n",
    "        return_tensors=\"pt\",\n",
    "    )\n",
    "\n",
    "    return x\n",
    "\n",
    "\n",
    "tokenized_dataset = dataset.map(\n",
    "    tokenize, batched=True, remove_columns=dataset.column_names\n",
    ")\n",
    "train_dl = DataLoader(dataset=tokenized_dataset, batch_size=batch_size)"
   ]
  },
  {
   "cell_type": "code",
   "execution_count": 7,
   "metadata": {},
   "outputs": [
    {
     "name": "stdout",
     "output_type": "stream",
     "text": [
      "{'input_ids': tensor([[  533,  1834,   506,  ...,  6524,   940,    28],\n",
      "        [ 6682,    42,   198,  ...,    30, 17897,  5076],\n",
      "        [ 4281,    42, 21236,  ..., 32846,   618,   253],\n",
      "        ...,\n",
      "        [ 7606,    42, 24411,  ..., 24312,    28,   392],\n",
      "        [22419, 18452,    28,  ...,  1798,    28, 18452],\n",
      "        [ 4281,   216,    33,  ..., 33149,  2254,    28]]), 'attention_mask': tensor([[1, 1, 1,  ..., 1, 1, 1],\n",
      "        [1, 1, 1,  ..., 1, 1, 1],\n",
      "        [1, 1, 1,  ..., 1, 1, 1],\n",
      "        ...,\n",
      "        [1, 1, 1,  ..., 1, 1, 1],\n",
      "        [1, 1, 1,  ..., 1, 1, 1],\n",
      "        [1, 1, 1,  ..., 1, 1, 1]])}\n",
      "torch.Size([16, 512])\n"
     ]
    }
   ],
   "source": [
    "# Let's text.  We should have an input_id field and attention_mask field \n",
    "# of shape (batch_size, context_length)\n",
    "x = next(iter(train_dl))\n",
    "\n",
    "print (x)\n",
    "print (x['input_ids'].shape)"
   ]
  },
  {
   "cell_type": "code",
   "execution_count": 8,
   "metadata": {},
   "outputs": [
    {
     "name": "stdout",
     "output_type": "stream",
     "text": [
      "\n",
      "Original entry 0 text is:  In today's ever-evolving world, technology has become an in\n",
      "Tokenized entry 0 text is:  In today's ever-evolving world, technology has become an integral part of\n",
      "\n",
      "Original entry 1 text is:  Introduction:\n",
      "In today's world, cooking has evolved beyond \n",
      "Tokenized entry 1 text is:  Introduction:\n",
      "In today's world, cooking has evolved beyond traditional methods such\n",
      "\n",
      "Original entry 2 text is:  Chapter: Cooking Up Comfort: Chemotheapy-Induced Nausea Rel\n",
      "Tokenized entry 2 text is:  Chapter: Cooking Up Comfort: Chemotheapy-Induced Nausea\n",
      "\n",
      "Original entry 3 text is:  Chapter 7: Navigating Orphanage Life - A Safe Haven or a Sp\n",
      "Tokenized entry 3 text is:  Chapter 7: Navigating Orphanage Life - A Safe Haven or a\n"
     ]
    }
   ],
   "source": [
    "# Once again, let's make sure we are getting back the right results. \n",
    "for i, item in enumerate(dataset):\n",
    "    print (f\"\\nOriginal entry {i} text is: {item['text'][:60]}\")\n",
    "    print (f\"Tokenized entry {i} text is: {tokenizer.decode(x['input_ids'][i][:15])}\")\n",
    "    if i > 2:\n",
    "        break\n",
    "\n",
    "# Looks good"
   ]
  },
  {
   "cell_type": "markdown",
   "metadata": {},
   "source": [
    "### Building embedding model\n",
    "\n",
    "Now that the dataset and tokenizer seem to be working, we need to construct a model. At first let's do the simplest thing: let's create a model that maps the tokens into an embedding space of dimension 576 to be consistant with SmolLM mentioned above.  Then let's map back.\n",
    "\n",
    "Also, we will try and keep these model sizes consistant at ~55M parameters.  This we we can see if improvement is coming from model size or if something about the archetecture is aiding learning. "
   ]
  },
  {
   "cell_type": "code",
   "execution_count": 9,
   "metadata": {},
   "outputs": [],
   "source": [
    "# We will inherit from Pytorch's Module class\n",
    "class EmbeddingModel(nn.Module):\n",
    "    def __init__(self, vocab_size: int, n_embed: int):\n",
    "        super().__init__()\n",
    "\n",
    "        # Map tokens to embedding space with dimension n_embed\n",
    "        self.embedding = nn.Embedding(vocab_size, embedding_dim=n_embed)\n",
    "\n",
    "        # Now map back to make prediction for next tokens, called logits.  The layer that\n",
    "        # does this is traditionally a linear layer called the lannguage model head.\n",
    "        self.lm_head = nn.Linear(n_embed, vocab_size, bias=False)\n",
    "        self.embedding.weight = self.lm_head.weight\n",
    "        \n",
    "\n",
    "    # Pytorch Modules have a forward method that is what is executed when the model is called\n",
    "    # The input is the (batch, tokens) tensor and a (batch, logits) tensor is returned\n",
    "    def forward(self, x: torch.Tensor) -> torch.Tensor:\n",
    "        x = self.embedding(x)\n",
    "        logits = self.lm_head(x)\n",
    "        return logits"
   ]
  },
  {
   "cell_type": "code",
   "execution_count": 10,
   "metadata": {},
   "outputs": [
    {
     "name": "stdout",
     "output_type": "stream",
     "text": [
      "40.894464\n"
     ]
    }
   ],
   "source": [
    "# Let's create the model\n",
    "model = EmbeddingModel(vocab_size = tokenizer.vocab_size, n_embed=832)\n",
    "\n",
    "# Let's see how many parameters we have\n",
    "print (sum([p.numel() for p in model.parameters()])/1.0e6)\n"
   ]
  },
  {
   "cell_type": "markdown",
   "metadata": {},
   "source": [
    "### The Training Loop\n",
    "\n",
    "Let's make the training loop as simple as possible.  Let's try to keep it as close to the pytorch quickstart example, only adding what is required for large language model traing: https://pytorch.org/tutorials/beginner/basics/quickstart_tutorial.html\n",
    "\n",
    "A few things that need to be added:\n",
    "\n",
    "* Some items are named to standard conventions like pred -> logits\n",
    "* LLama is trained with AdamW\n",
    "* The optimizer is Cross Entropy\n",
    "* Labels are the same as the input_ids, except we shift them so that we compare to the next token.\n",
    "\n",
    "If any of this does not make sense, again please watch Andrej's videos"
   ]
  },
  {
   "cell_type": "code",
   "execution_count": null,
   "metadata": {},
   "outputs": [
    {
     "name": "stdout",
     "output_type": "stream",
     "text": [
      "This model has 40.89M  params\n",
      "The vocab size is 49152, meaning the initial loss should be ~10.803\n",
      "Step:     0,  Tokens:  0.008M,  Loss:   7.571, Perplexity:  1941.2\n",
      "Step:     5,  Tokens:  0.049M,  Loss:   7.259, Perplexity:  1421.4\n",
      "Step:    10,  Tokens:  0.090M,  Loss:   7.553, Perplexity:  1907.1\n",
      "Step:    15,  Tokens:  0.131M,  Loss:   7.557, Perplexity:  1913.4\n",
      "Step:    20,  Tokens:  0.172M,  Loss:   6.849, Perplexity:  943.0\n",
      "Step:    25,  Tokens:  0.213M,  Loss:   7.755, Perplexity:  2332.2\n"
     ]
    },
    {
     "ename": "KeyboardInterrupt",
     "evalue": "",
     "output_type": "error",
     "traceback": [
      "\u001b[0;31m---------------------------------------------------------------------------\u001b[0m",
      "\u001b[0;31mKeyboardInterrupt\u001b[0m                         Traceback (most recent call last)",
      "Cell \u001b[0;32mIn[42], line 16\u001b[0m\n\u001b[1;32m     12\u001b[0m losses \u001b[38;5;241m=\u001b[39m []\n\u001b[1;32m     13\u001b[0m \u001b[38;5;28;01mfor\u001b[39;00m step, batch \u001b[38;5;129;01min\u001b[39;00m \u001b[38;5;28menumerate\u001b[39m(train_dl):\n\u001b[1;32m     14\u001b[0m \n\u001b[1;32m     15\u001b[0m     \u001b[38;5;66;03m# Get data\u001b[39;00m\n\u001b[0;32m---> 16\u001b[0m     x \u001b[38;5;241m=\u001b[39m \u001b[43mbatch\u001b[49m\u001b[43m[\u001b[49m\u001b[38;5;124;43m\"\u001b[39;49m\u001b[38;5;124;43minput_ids\u001b[39;49m\u001b[38;5;124;43m\"\u001b[39;49m\u001b[43m]\u001b[49m\u001b[38;5;241;43m.\u001b[39;49m\u001b[43mto\u001b[49m\u001b[43m(\u001b[49m\u001b[43mdevice\u001b[49m\u001b[43m)\u001b[49m\n\u001b[1;32m     17\u001b[0m     att_mask \u001b[38;5;241m=\u001b[39m batch[\u001b[38;5;124m\"\u001b[39m\u001b[38;5;124mattention_mask\u001b[39m\u001b[38;5;124m\"\u001b[39m]\u001b[38;5;241m.\u001b[39mto(device)\n\u001b[1;32m     19\u001b[0m     \u001b[38;5;66;03m# Compute prediction error\u001b[39;00m\n",
      "\u001b[0;31mKeyboardInterrupt\u001b[0m: "
     ]
    }
   ],
   "source": [
    "device = \"mps\"\n",
    "model = model.to(device)\n",
    "loss_fn = nn.CrossEntropyLoss()\n",
    "optimizer = torch.optim.AdamW(model.parameters(), lr=1e-4)\n",
    "\n",
    "num_params = sum([p.numel() for p in model.parameters()]) / 1.0e6\n",
    "print(f\"This model has {num_params:.2f}M  params\")\n",
    "print(\n",
    "    f\"The vocab size is {tokenizer.vocab_size}, meaning the initial loss should be ~{math.log(tokenizer.vocab_size):.3f}\"\n",
    ")\n",
    "model.train()\n",
    "losses = []\n",
    "for step, batch in enumerate(train_dl):\n",
    "\n",
    "    # Get data\n",
    "    x = batch[\"input_ids\"].to(device)\n",
    "    att_mask = batch[\"attention_mask\"].to(device)\n",
    "\n",
    "    # Compute prediction error\n",
    "    logits = model(x)\n",
    "\n",
    "    # Shift to compare loss correctly\n",
    "    shifted_logits = logits[:, :-1].contiguous()\n",
    "    labels = x[:, 1:].contiguous()\n",
    "    loss = loss_fn(shifted_logits.view(-1, shifted_logits.size(-1)), labels.view(-1))\n",
    "    losses.append(loss.item())\n",
    "\n",
    "    # Backpropagation\n",
    "    loss.backward()\n",
    "    optimizer.step()\n",
    "    optimizer.zero_grad()\n",
    "\n",
    "    if step % 500 == 0:\n",
    "        print(\n",
    "            f\"Step: {step:>5d},  Tokens:{batch_size*context_length*(step+1)/1.0e6:>7.3f}M,  Loss: {loss.item():>7.3f}, Perplexity:  {math.exp(loss.item()):>7.1f}\"\n",
    "        )\n",
    "    if (step + 1) % 12500 == 0:\n",
    "        break"
   ]
  },
  {
   "cell_type": "code",
   "execution_count": 12,
   "metadata": {},
   "outputs": [
    {
     "data": {
      "text/plain": [
       "[<matplotlib.lines.Line2D at 0x16a18cef0>]"
      ]
     },
     "execution_count": 12,
     "metadata": {},
     "output_type": "execute_result"
    },
    {
     "data": {
      "image/png": "[encoded data removed]",
      "text/plain": [
       "<Figure size 640x480 with 1 Axes>"
      ]
     },
     "metadata": {},
     "output_type": "display_data"
    }
   ],
   "source": [
    "plt.plot(losses)"
   ]
  },
  {
   "cell_type": "code",
   "execution_count": 39,
   "metadata": {},
   "outputs": [
    {
     "name": "stdout",
     "output_type": "stream",
     "text": [
      "Input ids for woman is [24626]\n",
      "Top 25 closest tokens to woman by cosine similarity: \n",
      "Token: 13898,         testim,   Similarity: 0.1931\n",
      "Token:  7346,         athlet,   Similarity: 0.1910\n",
      "Token: 33000,       passport,   Similarity: 0.1748\n",
      "Token: 21852,         racist,   Similarity: 0.1732\n",
      "Token: 32189,  hydroelectric,   Similarity: 0.1726\n",
      "Token: 28217,      budgeting,   Similarity: 0.1691\n",
      "Token: 33278,        founded,   Similarity: 0.1680\n",
      "Token: 46275,          Sofia,   Similarity: 0.1670\n",
      "Token:  5611,           mort,   Similarity: 0.1670\n",
      "Token: 42724,       judgment,   Similarity: 0.1663\n",
      "Token: 49037,        fetched,   Similarity: 0.1651\n",
      "Token: 15245,       economic,   Similarity: 0.1649\n",
      "Token: 15896,      publisher,   Similarity: 0.1640\n",
      "Token: 42079,       truthful,   Similarity: 0.1638\n",
      "Token: 43285,        caribou,   Similarity: 0.1618\n",
      "Token: 24343,        Western,   Similarity: 0.1603\n",
      "Token: 22858,      organized,   Similarity: 0.1588\n",
      "Token: 23614,     functional,   Similarity: 0.1588\n",
      "Token: 36900,     discipline,   Similarity: 0.1583\n",
      "Token: 33935,  hallucinations,   Similarity: 0.1583\n",
      "Token: 22913,           goat,   Similarity: 0.1581\n",
      "Token: 32600,       cucumber,   Similarity: 0.1575\n",
      "Token: 25122,       inflamed,   Similarity: 0.1575\n",
      "Token: 22645,         funded,   Similarity: 0.1564\n",
      "Token: 18290,         binary,   Similarity: 0.1564\n"
     ]
    }
   ],
   "source": [
    "# Assuming the embedding layer is already trained\n",
    "layer = model.embedding.to('cpu')\n",
    "\n",
    "# Get the embedding for 'king' (e.g., assuming 'king' corresponds to token index 0)\n",
    "k = 200\n",
    "word = 'woman'\n",
    "\n",
    "print (f\"Input ids for {word} is {tokenizer(word)['input_ids']}\")\n",
    "\n",
    "word_index = tokenizer(word)['input_ids'][0]\n",
    "word_embedding = layer(torch.tensor(word_index)).detach()  # Get the embedding for 'king'\n",
    "\n",
    "# Get all embeddings\n",
    "all_embeddings = layer.weight.detach()  # Extract all embeddings\n",
    "\n",
    "\n",
    "# Compute cosine similarity between 'king' and all other tokens\n",
    "cosine_similarities = F.cosine_similarity(word_embedding.unsqueeze(0), all_embeddings, dim=1)\n",
    "\n",
    "# Get the indices of the 10 most similar tokens (excluding 'king' itself)\n",
    "top_k = torch.topk(cosine_similarities, k=k+1)  # Top 11 because 'king' will be in the list\n",
    "top_k_indices = top_k.indices[top_k.indices != word_index][:k]  # Exclude 'king'\n",
    "\n",
    "\n",
    "# Print the 10 closest tokens and their similarities\n",
    "print(f\"Top 25 closest tokens to {word} by cosine similarity: \")\n",
    "ii = 0\n",
    "for idx in top_k_indices:\n",
    "    #print(idx.item())\n",
    "    idx_word = tokenizer.decode(idx.item()).replace('\\n','')\n",
    "    if len(idx_word) > 4:\n",
    "        print(f\"Token: {idx.item():5d}, {idx_word:>14s},   Similarity: {cosine_similarities[idx].item():.4f}\")\n",
    "        ii += 1\n",
    "        if ii > 24:\n",
    "            break\n",
    "\n",
    "\n",
    "\n"
   ]
  },
  {
   "cell_type": "code",
   "execution_count": 40,
   "metadata": {},
   "outputs": [
    {
     "name": "stdout",
     "output_type": "stream",
     "text": [
      "\n",
      "Top 25 closest tokens to woman by distance: \n",
      "Token: 29386,      migraines,   Distance: 0.83\n",
      "Token: 11814,       minister,   Distance: 0.83\n",
      "Token: 33000,       passport,   Distance: 0.83\n",
      "Token: 32059,          mango,   Distance: 0.84\n",
      "Token: 28650,           visa,   Distance: 0.84\n",
      "Token: 16336,         diesel,   Distance: 0.84\n",
      "Token: 38079,         Safari,   Distance: 0.84\n",
      "Token: 34989,     defendants,   Distance: 0.84\n",
      "Token: 21852,         racist,   Distance: 0.84\n",
      "Token: 40498,        glazing,   Distance: 0.84\n",
      "Token:  8016,         Victor,   Distance: 0.84\n",
      "Token: 47169,       tenacity,   Distance: 0.84\n",
      "Token: 25708,      ingestion,   Distance: 0.84\n",
      "Token: 10982,          mates,   Distance: 0.84\n",
      "Token: 18090,     provincial,   Distance: 0.85\n",
      "Token: 32309,        curator,   Distance: 0.85\n",
      "Token: 31376,         tattoo,   Distance: 0.85\n",
      "Token: 35278,           envy,   Distance: 0.85\n",
      "Token: 23763,           clan,   Distance: 0.85\n",
      "Token: 30512,     vigorously,   Distance: 0.85\n",
      "Token: 47532,      forensics,   Distance: 0.85\n",
      "Token: 36224,     residences,   Distance: 0.85\n",
      "Token: 31546,         amming,   Distance: 0.85\n",
      "Token: 39027,         cosine,   Distance: 0.85\n",
      "Token: 35765,           Dana,   Distance: 0.85\n"
     ]
    }
   ],
   "source": [
    "distances = torch.norm(all_embeddings - word_embedding, dim=1)  # Compute L2 norm (Euclidean distance)\n",
    "\n",
    "# Get the indices of the 10 closest tokens (excluding 'king' itself)\n",
    "top_k = torch.topk(-distances, k=k+1)  # Use negative distances to mimic \\\"closest\\\"\n",
    "top_k_indices = top_k.indices[top_k.indices != word_index][:k]  # Exclude 'king'\n",
    "\n",
    "# Print the 10 closest tokens and their distances\n",
    "print(f\"\\nTop 25 closest tokens to {word} by distance: \")\n",
    "ii = 0\n",
    "for idx in top_k_indices:\n",
    "    #print(idx.item())\n",
    "    idx_word = tokenizer.decode(idx.item()).replace('\\n','')\n",
    "    if len(idx_word) > 4:    \n",
    "        print(f\"Token: {idx.item():5d}, {tokenizer.decode(idx.item()).replace('\\n',''):>14s},   Distance: {distances[idx].item():.2f}\")\n",
    "        ii += 1\n",
    "        if ii > 24:\n",
    "            break\n"
   ]
  },
  {
   "cell_type": "code",
   "execution_count": 50,
   "metadata": {},
   "outputs": [
    {
     "name": "stdout",
     "output_type": "stream",
     "text": [
      "40.558848\n"
     ]
    }
   ],
   "source": [
    "# We will inherit from Pytorch's Module class\n",
    "class EmbeddingModel(nn.Module):\n",
    "    def __init__(self, vocab_size: int, n_embed: int):\n",
    "        super().__init__()\n",
    "\n",
    "        # Map tokens to embedding space with dimension n_embed\n",
    "        self.embedding = nn.Embedding(vocab_size, embedding_dim=n_embed)\n",
    "\n",
    "        self.fft1 = nn.Sequential(nn.Linear(n_embed, 3*n_embed),\n",
    "                                 nn.ReLU(),\n",
    "                                 nn.Linear(n_embed, 3*n_embed))\n",
    "        \n",
    "        self.fft2 = nn.Sequential(nn.Linear(n_embed, 3*n_embed),\n",
    "                                 nn.ReLU(),\n",
    "                                 nn.Linear(n_embed, 3*n_embed))\n",
    "                               \n",
    "\n",
    "        # Now map back to make prediction for next tokens, called logits.  The layer that\n",
    "        # does this is traditionally a linear layer called the lannguage model head.\n",
    "        self.lm_head = nn.Linear(n_embed, vocab_size, bias=False)\n",
    "        self.embedding.weight = self.lm_head.weight\n",
    "        \n",
    "\n",
    "    # Pytorch Modules have a forward method that is what is executed when the model is called\n",
    "    # The input is the (batch, tokens) tensor and a (batch, logits) tensor is returned\n",
    "    def forward(self, x: torch.Tensor) -> torch.Tensor:\n",
    "        x = self.embedding(x)\n",
    "        x = self.fft1(x)\n",
    "        x = self.fft2(x)\n",
    "        logits = self.lm_head(x)\n",
    "        return logits\n",
    "    \n",
    "# Let's create the model\n",
    "model = EmbeddingModel(vocab_size = tokenizer.vocab_size, n_embed=704)\n",
    "\n",
    "# Let's see how many parameters we have\n",
    "print (sum([p.numel() for p in model.parameters()])/1.0e6)\n"
   ]
  },
  {
   "cell_type": "code",
   "execution_count": null,
   "metadata": {},
   "outputs": [],
   "source": []
  }
 ],
 "metadata": {
  "kernelspec": {
   "display_name": ".venv",
   "language": "python",
   "name": "python3"
  },
  "language_info": {
   "codemirror_mode": {
    "name": "ipython",
    "version": 3
   },
   "file_extension": ".py",
   "mimetype": "text/x-python",
   "name": "python",
   "nbconvert_exporter": "python",
   "pygments_lexer": "ipython3",
   "version": "3.12.8"
  }
 },
 "nbformat": 4,
 "nbformat_minor": 2
}
